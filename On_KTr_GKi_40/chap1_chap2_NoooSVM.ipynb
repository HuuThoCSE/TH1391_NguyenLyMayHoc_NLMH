{
  "cells": [
    {
      "cell_type": "markdown",
      "metadata": {
        "id": "G_ihfszeXkD_"
      },
      "source": [
        "Chuẩn hóa dữ liệu"
      ]
    },
    {
      "cell_type": "code",
      "execution_count": null,
      "metadata": {
        "id": "yfSa357EWzO2"
      },
      "outputs": [],
      "source": [
        "import pandas as pd\n",
        "from sklearn.preprocessing import MinMaxScaler"
      ]
    },
    {
      "cell_type": "code",
      "execution_count": null,
      "metadata": {
        "colab": {
          "base_uri": "https://localhost:8080/"
        },
        "id": "GdFz5-eQ3HOy",
        "outputId": "d7b9acbd-6d5f-4348-edc2-5000ed3ddbcd"
      },
      "outputs": [
        {
          "name": "stdout",
          "output_type": "stream",
          "text": [
            "Mounted at /content/drive\n"
          ]
        }
      ],
      "source": [
        "from google.colab import drive\n",
        "drive.mount('/content/drive')"
      ]
    },
    {
      "cell_type": "code",
      "execution_count": null,
      "metadata": {
        "colab": {
          "base_uri": "https://localhost:8080/"
        },
        "id": "v_qr_ABmXwdI",
        "outputId": "ba2e439c-a729-4a5d-8ec3-5314dc0cac65"
      },
      "outputs": [
        {
          "name": "stdout",
          "output_type": "stream",
          "text": [
            "   weight  price\n",
            "0     300      3\n",
            "1     250      2\n",
            "2     800      5\n"
          ]
        }
      ],
      "source": [
        "data = {'weight':[300, 250, 800],\n",
        "        'price':[3, 2, 5]}\n",
        "df = pd.DataFrame(data)\n",
        "print(df)"
      ]
    },
    {
      "cell_type": "code",
      "execution_count": null,
      "metadata": {
        "colab": {
          "base_uri": "https://localhost:8080/"
        },
        "id": "wvg2G_ZVYN-e",
        "outputId": "aac63db2-3652-4da1-b402-d06758858eb8"
      },
      "outputs": [
        {
          "name": "stdout",
          "output_type": "stream",
          "text": [
            "[[0.09090909 0.33333333]\n",
            " [0.         0.        ]\n",
            " [1.         1.        ]]\n"
          ]
        }
      ],
      "source": [
        "scaler = MinMaxScaler()\n",
        "normalized_data = scaler.fit_transform(df)\n",
        "print(normalized_data)"
      ]
    },
    {
      "cell_type": "code",
      "execution_count": null,
      "metadata": {
        "colab": {
          "base_uri": "https://localhost:8080/"
        },
        "id": "OQRQpjqnYTfe",
        "outputId": "45439413-792d-4ac8-9aee-88d7a1cea518"
      },
      "outputs": [
        {
          "name": "stdout",
          "output_type": "stream",
          "text": [
            "     weight     price\n",
            "0  0.090909  0.333333\n",
            "1  0.000000  0.000000\n",
            "2  1.000000  1.000000\n"
          ]
        }
      ],
      "source": [
        "normalized_df = pd.DataFrame(normalized_data, columns=df.columns)\n",
        "print(normalized_df)"
      ]
    },
    {
      "cell_type": "markdown",
      "metadata": {
        "id": "JkgnOH2QY4Jv"
      },
      "source": [
        "VD_chuẩn hóa minmax:"
      ]
    },
    {
      "cell_type": "code",
      "execution_count": null,
      "metadata": {
        "id": "nQE3P5aaY-tH"
      },
      "outputs": [],
      "source": [
        "# minmax_handmade\n",
        "def minmaxscale(df):\n",
        "  col_names = df.columns\n",
        "  sl_col= len(col_names)\n",
        "  max_val = df.max(axis=0)\n",
        "  min_val = df.min(axis=0)\n",
        "  for i in range (sl_col):\n",
        "    j=0\n",
        "    for val in df[col_names[i]]:\n",
        "      valn= (val-min_val[i])/(max_val[i]-min_val[i])\n",
        "      df[col_names[i]][j]=round(valn,2)\n",
        "      j=j+1\n"
      ]
    },
    {
      "cell_type": "code",
      "execution_count": null,
      "metadata": {
        "id": "evKnlyIHjiOx"
      },
      "outputs": [],
      "source": [
        "def minmaxscale_arr(arr):\n",
        "  max_val=arr.max()\n",
        "  min_val=arr.min()\n",
        "  sl_a=len(arr)\n",
        "  for i in range (sl_a):\n",
        "    arr[i]= (arr[i]-min_val)/(max_val-min_val)\n",
        "    arr[i]=round(z,2)"
      ]
    },
    {
      "cell_type": "code",
      "execution_count": null,
      "metadata": {
        "colab": {
          "base_uri": "https://localhost:8080/"
        },
        "id": "wiN9aTNFh27O",
        "outputId": "183432c2-71bc-4c86-b63f-04a263a9adb0"
      },
      "outputs": [
        {
          "name": "stdout",
          "output_type": "stream",
          "text": [
            "   weight  price\n",
            "0     300      3\n",
            "1     250      2\n",
            "2     800      5\n"
          ]
        }
      ],
      "source": [
        "# df2 = pd.read_csv('du_lieu.csv')\n",
        "data = {'weight':[300, 250, 800],\n",
        "        'price':[3, 2, 5]}\n",
        "df = pd.DataFrame(data)\n",
        "print(df)"
      ]
    },
    {
      "cell_type": "code",
      "execution_count": null,
      "metadata": {
        "colab": {
          "base_uri": "https://localhost:8080/"
        },
        "id": "3SSSL96iiUf1",
        "outputId": "b6233a82-172d-4fcc-e6e3-a62689170424"
      },
      "outputs": [
        {
          "name": "stdout",
          "output_type": "stream",
          "text": [
            "   weight  price\n",
            "0    0.09   0.33\n",
            "1    0.00   0.00\n",
            "2    1.00   1.00\n"
          ]
        },
        {
          "name": "stderr",
          "output_type": "stream",
          "text": [
            "<ipython-input-52-7fe85b884068>:11: SettingWithCopyWarning: \n",
            "A value is trying to be set on a copy of a slice from a DataFrame\n",
            "\n",
            "See the caveats in the documentation: https://pandas.pydata.org/pandas-docs/stable/user_guide/indexing.html#returning-a-view-versus-a-copy\n",
            "  df[col_names[i]][j]=round(valn,2)\n"
          ]
        }
      ],
      "source": [
        "minmaxscale(df)\n",
        "print(df)"
      ]
    },
    {
      "cell_type": "markdown",
      "metadata": {
        "id": "KcDTSXxxjecM"
      },
      "source": [
        "Chuẩn hóa Z-core:"
      ]
    },
    {
      "cell_type": "code",
      "execution_count": null,
      "metadata": {
        "id": "NSxkUMcAjlh9"
      },
      "outputs": [],
      "source": [
        "import numpy as np\n",
        "import scipy.stats as stats\n",
        "import math"
      ]
    },
    {
      "cell_type": "code",
      "execution_count": null,
      "metadata": {
        "id": "6aMgjV8wjsIc"
      },
      "outputs": [],
      "source": [
        "data = np.array([6, 7, 7, 12, 13, 13, 15, 16, 19, 22])"
      ]
    },
    {
      "cell_type": "code",
      "execution_count": null,
      "metadata": {
        "colab": {
          "base_uri": "https://localhost:8080/"
        },
        "id": "fr1RuaObjuRM",
        "outputId": "a539a6ed-0902-4f2a-f37a-1ba493025283"
      },
      "outputs": [
        {
          "name": "stdout",
          "output_type": "stream",
          "text": [
            "[-1.39443338 -1.19522861 -1.19522861 -0.19920477  0.          0.\n",
            "  0.39840954  0.5976143   1.19522861  1.79284291]\n"
          ]
        }
      ],
      "source": [
        "zscores = stats.zscore(data)\n",
        "print(zscores)"
      ]
    },
    {
      "cell_type": "code",
      "execution_count": null,
      "metadata": {
        "colab": {
          "base_uri": "https://localhost:8080/"
        },
        "id": "ezyUY1c0kRS0",
        "outputId": "c735e7a1-5850-4171-cc46-f19a292b58b9"
      },
      "outputs": [
        {
          "name": "stdout",
          "output_type": "stream",
          "text": [
            "    Name  Age  Income  Education\n",
            "0    Nik   32   80000          5\n",
            "1   Kate   30   90000          7\n",
            "2    Joe   67   45000          3\n",
            "3  Mitch   34   23000          4\n",
            "4  Alana   20   12000          4\n"
          ]
        }
      ],
      "source": [
        "# Loading a Sample Pandas Dataframe\n",
        "import pandas as pd\n",
        "\n",
        "dfz = pd.DataFrame.from_dict({\n",
        "    'Name': ['Nik', 'Kate', 'Joe', 'Mitch', 'Alana'],\n",
        "    'Age': [32, 30, 67, 34, 20],\n",
        "    'Income': [80000, 90000, 45000, 23000, 12000],\n",
        "    'Education' : [5, 7, 3, 4, 4]\n",
        "})\n",
        "\n",
        "print(dfz.head())"
      ]
    },
    {
      "cell_type": "code",
      "execution_count": null,
      "metadata": {
        "colab": {
          "base_uri": "https://localhost:8080/"
        },
        "id": "4v8wOJrCkUjj",
        "outputId": "40d5f552-8b08-46e4-de0c-982ff35a605c"
      },
      "outputs": [
        {
          "name": "stdout",
          "output_type": "stream",
          "text": [
            "    Name  Age  Income  Education  Income zscore\n",
            "0    Nik   32   80000          5       0.978700\n",
            "1   Kate   30   90000          7       1.304934\n",
            "2    Joe   67   45000          3      -0.163117\n",
            "3  Mitch   34   23000          4      -0.880830\n",
            "4  Alana   20   12000          4      -1.239687\n"
          ]
        }
      ],
      "source": [
        "dfz['Income zscore'] = stats.zscore(dfz['Income'])\n",
        "print(dfz.head())"
      ]
    },
    {
      "cell_type": "code",
      "execution_count": null,
      "metadata": {
        "colab": {
          "base_uri": "https://localhost:8080/"
        },
        "id": "fw07C9v-kex0",
        "outputId": "838b2131-1bb1-4d1e-d8bb-b73fa42c3fdc"
      },
      "outputs": [
        {
          "name": "stdout",
          "output_type": "stream",
          "text": [
            "        Age    Income  Education  Income zscore\n",
            "0 -0.288493  0.978700   0.294884       0.978700\n",
            "1 -0.413925  1.304934   1.769303       1.304934\n",
            "2  1.906565 -0.163117  -1.179536      -0.163117\n",
            "3 -0.163061 -0.880830  -0.442326      -0.880830\n",
            "4 -1.041085 -1.239687  -0.442326      -1.239687\n"
          ]
        }
      ],
      "source": [
        "dfz = dfz.select_dtypes(include='number').apply(stats.zscore)\n",
        "print(dfz.head())"
      ]
    },
    {
      "cell_type": "markdown",
      "metadata": {
        "id": "4jrZx06OlDJH"
      },
      "source": [
        "VD_chuẩn hóa z-core:"
      ]
    },
    {
      "cell_type": "code",
      "execution_count": null,
      "metadata": {
        "id": "kQLk-WzOlIUs"
      },
      "outputs": [],
      "source": [
        "def z_core(df):\n",
        "  col_names = df.columns\n",
        "  sl_col= len(col_names)\n",
        "  for i in range (sl_col):\n",
        "    j=0\n",
        "    tb=0\n",
        "    e=0\n",
        "    k=0\n",
        "    for val in df[col_names[i]]:\n",
        "      tb=tb+val\n",
        "      j=j+1\n",
        "    tb=tb/j\n",
        "\n",
        "    for val in df[col_names[i]]:\n",
        "      e=e+pow(val-tb,2)\n",
        "    e=math.sqrt((1/j)*e)\n",
        "\n",
        "    for val in df[col_names[i]]:\n",
        "      z= (val-tb)/e\n",
        "      df[col_names[i]][k]=round(z,2)\n",
        "      k=k+1"
      ]
    },
    {
      "cell_type": "code",
      "execution_count": null,
      "metadata": {
        "id": "r3Zc5r-ad_Bc"
      },
      "outputs": [],
      "source": [
        "def z_core_array(arr):\n",
        "  sl_a=len(arr)\n",
        "  tb=0\n",
        "  e=0\n",
        "  for val in arr:\n",
        "    tb=tb+ val\n",
        "  tb=tb/sl_a\n",
        "  for val in arr:\n",
        "    e=e+pow(val-tb,2)\n",
        "  e=math.sqrt((1/sl_a)*e)\n",
        "  for i in range (sl_a):\n",
        "    z= (arr[i]-tb)/e\n",
        "    arr[i]=round(z,2)\n"
      ]
    },
    {
      "cell_type": "code",
      "execution_count": null,
      "metadata": {
        "colab": {
          "base_uri": "https://localhost:8080/"
        },
        "id": "Ar62pH6pxCnR",
        "outputId": "3f213b79-a714-4de7-867d-1c01912c072e"
      },
      "outputs": [
        {
          "name": "stdout",
          "output_type": "stream",
          "text": [
            "    Name  Age  Income  Education\n",
            "0    Nik   32   80000          5\n",
            "1   Kate   30   90000          7\n",
            "2    Joe   67   45000          3\n",
            "3  Mitch   34   23000          4\n",
            "4  Alana   20   12000          4\n"
          ]
        }
      ],
      "source": [
        "dfz = pd.DataFrame.from_dict({\n",
        "    'Name': ['Nik', 'Kate', 'Joe', 'Mitch', 'Alana'],\n",
        "    'Age': [32, 30, 67, 34, 20],\n",
        "    'Income': [80000, 90000, 45000, 23000, 12000],\n",
        "    'Education' : [5, 7, 3, 4, 4]\n",
        "})\n",
        "\n",
        "print(dfz.head())"
      ]
    },
    {
      "cell_type": "code",
      "execution_count": null,
      "metadata": {
        "colab": {
          "base_uri": "https://localhost:8080/"
        },
        "id": "rHPHzAvTwz1I",
        "outputId": "a4ac9756-909d-4818-ab31-16b2a48b2d55"
      },
      "outputs": [
        {
          "name": "stdout",
          "output_type": "stream",
          "text": [
            "    Age  Income  Education\n",
            "0 -0.29    0.98       0.29\n",
            "1 -0.41    1.30       1.77\n",
            "2  1.91   -0.16      -1.18\n",
            "3 -0.16   -0.88      -0.44\n",
            "4 -1.04   -1.24      -0.44\n"
          ]
        },
        {
          "name": "stderr",
          "output_type": "stream",
          "text": [
            "<ipython-input-62-bee8f4d5cc85>:20: SettingWithCopyWarning: \n",
            "A value is trying to be set on a copy of a slice from a DataFrame\n",
            "\n",
            "See the caveats in the documentation: https://pandas.pydata.org/pandas-docs/stable/user_guide/indexing.html#returning-a-view-versus-a-copy\n",
            "  df[col_names[i]][k]=round(z,2)\n"
          ]
        }
      ],
      "source": [
        "dfz1 = dfz.select_dtypes(include='number').copy()\n",
        "# dfz1 = dfz1.applymap(z_core)\n",
        "z_core(dfz1)\n",
        "print(dfz1.head())"
      ]
    },
    {
      "cell_type": "markdown",
      "metadata": {
        "id": "H7Y3ItohzCkU"
      },
      "source": [
        "Cây quyết định:"
      ]
    },
    {
      "cell_type": "code",
      "execution_count": null,
      "metadata": {
        "id": "iDJAO5EKzJmF"
      },
      "outputs": [],
      "source": [
        "import pandas as pd\n",
        "import numpy as np\n",
        "import math"
      ]
    },
    {
      "cell_type": "code",
      "execution_count": null,
      "metadata": {
        "id": "b0RL4MNJzmaz"
      },
      "outputs": [],
      "source": [
        "class Tree:\n",
        "  def __init__(self,observationIDs,features,currLvl=0,subTree={},bestFeature=None,majorityLabel=None,parentMajorityLabel=None):\n",
        "    self.observationIDs = observationIDs\n",
        "    self.features = features\n",
        "    self.currLvl = currLvl\n",
        "    self.subTree = subTree\n",
        "    self.bestFeature = bestFeature\n",
        "    self.majorityLabel = majorityLabel\n",
        "    self.parentMajorityLabel = parentMajorityLabel\n",
        "    self.setBestFeatureID(bestFeature)\n",
        "\n",
        "  def setBestFeatureID(self, feature):\n",
        "    idx = None\n",
        "    if feature == 'Is_Home_or_Away':\n",
        "      idx = 0\n",
        "    elif feature == 'Is_Opponent_in_AP25_Preseason':\n",
        "      idx = 1\n",
        "    else:\n",
        "      idx = 2\n",
        "    self.bestFeatureID = int(idx)"
      ]
    },
    {
      "cell_type": "code",
      "execution_count": null,
      "metadata": {
        "id": "2CBNdbUtzyuk"
      },
      "outputs": [],
      "source": [
        "def predict(tree, obs):\n",
        "\tif tree.bestFeature == None:\n",
        "\t\treturn tree.majorityLabel\n",
        "\tfeatVal = obs[tree.bestFeatureID]\n",
        "\tif not featVal in tree.subTree: # val with no subtree\n",
        "\t\treturn tree.majorityLabel\n",
        "\telse: # recurse on subtree\n",
        "\t\treturn predict(tree.subTree[featVal],obs)"
      ]
    },
    {
      "cell_type": "code",
      "execution_count": null,
      "metadata": {
        "id": "EoibdnYpz0tL"
      },
      "outputs": [],
      "source": [
        "def displayDecisionTree(tree):\n",
        "\tprint('\\t'*tree.currLvl + '(lvl {}) {}'.format(tree.currLvl,tree.majorityLabel))\n",
        "\tif tree.bestFeature == None:\n",
        "\t\treturn\n",
        "\n",
        "\tprint('\\t'*tree.currLvl + '{}'.format(tree.bestFeature) + ': ')\n",
        "\tfor [val,subTree] in sorted(tree.subTree.items()):\n",
        "\t\tprint('\\t'*(tree.currLvl+1) + 'choice: {}'.format(val))\n",
        "\t\tdisplayDecisionTree(subTree)"
      ]
    },
    {
      "cell_type": "code",
      "execution_count": null,
      "metadata": {
        "id": "B4ymu22wz3ws"
      },
      "outputs": [],
      "source": [
        "def Entropy(ns):\n",
        "\tentropy = 0.0\n",
        "\ttotal = sum(ns)\n",
        "\tfor x in ns:\n",
        "\t\tentropy += -1.0*x/total*math.log(1.0*x/total,2)\n",
        "\treturn entropy"
      ]
    },
    {
      "cell_type": "code",
      "execution_count": null,
      "metadata": {
        "id": "2FCMDn9iz5z8"
      },
      "outputs": [],
      "source": [
        "def IG(observationIDs, feature,dfdata):\n",
        "\t# get smaller dataframe\n",
        "\tdf = dfdata.loc[list(observationIDs)]\n",
        "\t# populate counts for Wins/Losses for each category of the feature\n",
        "\tlabelCountDict = {}\n",
        "\tvalueLabelCountDict = {}\n",
        "\tfor index, row in df.iterrows():\n",
        "\t\tlabel = row['Label']\n",
        "\t\tif not label in labelCountDict:\n",
        "\t\t\tlabelCountDict[label] = 0 # this specific label was not found so insert 0 count\n",
        "\t\tlabelCountDict[label] += 1\n",
        "\t\tfeatureValue = row[feature]\n",
        "\t\tif not featureValue in valueLabelCountDict:\n",
        "\t\t\tvalueLabelCountDict[featureValue] = {} # this specific feature value not found so insert empty dict\n",
        "\t\tif not label in valueLabelCountDict[featureValue]:\n",
        "\t\t\tvalueLabelCountDict[featureValue][label] = 0 # this specific label was not found for this feature value so insert 0 count\n",
        "\t\tvalueLabelCountDict[featureValue][label] += 1\n",
        "\n",
        "\tns = []\n",
        "\tfor [label,count] in labelCountDict.items():\n",
        "\t\tns.append(count)\n",
        "\n",
        "\tH_Y = Entropy(ns)\n",
        "\n",
        "\tH_Y_X = 0.0\n",
        "\tfor [featureValue, labelCountDict] in valueLabelCountDict.items():\n",
        "\t\tnsHYX = []\n",
        "\t\tfor [label,count] in labelCountDict.items():\n",
        "\t\t\tnsHYX.append(count)\n",
        "\t\tH_Y_X += 1.0*sum(nsHYX)/len(df)*Entropy(nsHYX)\n",
        "\treturn H_Y - H_Y_X"
      ]
    },
    {
      "cell_type": "code",
      "execution_count": null,
      "metadata": {
        "id": "4WeL-AIc0V8e"
      },
      "outputs": [],
      "source": [
        "def GR(observationIDs, feature,dfdata):\n",
        "\tig = IG(observationIDs,feature,dfdata)\n",
        "\tif ig == 0:\n",
        "\t\treturn 0\n",
        "\tdf = dfdata.loc[list(observationIDs)]\n",
        "\tvalueLabelDict = {}\n",
        "\tfor index, row in df.iterrows():\n",
        "\t\tlabel = row['Label']\n",
        "\t\tfeatureValue = row[feature]\n",
        "\t\tif featureValue not in valueLabelDict:\n",
        "\t\t\tvalueLabelDict[featureValue] = 0\n",
        "\t\tvalueLabelDict[featureValue] += 1\n",
        "\tns = []\n",
        "\tfor [val,count] in valueLabelDict.items():\n",
        "\t\tns.append(count)\n",
        "\tent = Entropy(ns)\n",
        "\treturn float(ig)/ent"
      ]
    },
    {
      "cell_type": "code",
      "execution_count": null,
      "metadata": {
        "id": "qE_sp-zD0ijb"
      },
      "outputs": [],
      "source": [
        "def fillDecisionTree(tree,decisionTreeAlgo,dfdata):\n",
        "\t# find the majorityLabel\n",
        "\tdf = dfdata.loc[list(tree.observationIDs)] # smaller df\n",
        "\tcounts = df['Label'].value_counts()\n",
        "\tmajorityLabel = df['Label'].value_counts().idxmax()\n",
        "\tif len(counts) > 1:\n",
        "\t\tif counts['Win'] == counts['Lose']:\n",
        "\t\t\tmajorityLabel = tree.parentMajorityLabel\n",
        "\ttree.majorityLabel = majorityLabel\n",
        "\n",
        "\t# exit if only one label\n",
        "\tif len(counts) == 1:\n",
        "\t\treturn\n",
        "\t# exit if no features left\n",
        "\tif len(tree.features) == 0:\n",
        "\t\treturn\n",
        "\n",
        "\t# find best feature\n",
        "\tfeatureValueDict = {}\n",
        "\tfor feature in tree.features:\n",
        "\t\tif decisionTreeAlgo == 'ID3':\n",
        "\t\t\tmetricScore = IG(tree.observationIDs,feature,dfdata)\n",
        "\t\tif decisionTreeAlgo == 'C45':\n",
        "\t\t\tmetricScore = GR(tree.observationIDs,feature,dfdata)\n",
        "\t\tfeatureValueDict[feature] = metricScore\n",
        "\tbestFeature, bestFeatureValue = sorted(featureValueDict.items(),reverse=True)[0]\n",
        "\t# exit if IG or GR is 0\n",
        "\tif bestFeatureValue == 0.0:\n",
        "\t\treturn\n",
        "\ttree.bestFeature = bestFeature\n",
        "\n",
        "\t# find subset of features\n",
        "\tsubFeatures = set()\n",
        "\tfor feature in tree.features:\n",
        "\t\tif feature == bestFeature: # skip the current best feature\n",
        "\t\t\tcontinue\n",
        "\t\tsubFeatures.add(feature)\n",
        "\n",
        "\t# find best feature id\n",
        "\tbestFeatureIdx = 0\n",
        "\tif bestFeature == 'Is_Home_or_Away':\n",
        "\t\tbestFeatureIdx = 0\n",
        "\telif bestFeature == 'Is_Opponent_in_AP25_Preseason':\n",
        "\t\tbestFeatureIdx = 1\n",
        "\telse:\n",
        "\t\tbestFeatureIdx = 2\n",
        "\n",
        "\t# find subset of observations\n",
        "\tsubObservationsDict = {}\n",
        "\tfor obs in tree.observationIDs:\n",
        "\t\tval = dfdata.values[obs][bestFeatureIdx]\n",
        "\t\tif not val in subObservationsDict:\n",
        "\t\t\tsubObservationsDict[val] = set()\n",
        "\t\tsubObservationsDict[val].add(obs)\n",
        "\n",
        "\tfor [val,obs] in subObservationsDict.items():\n",
        "\n",
        "\t\ttree.subTree[val] = Tree(obs, subFeatures, tree.currLvl + 1,{},None,None,majorityLabel)\n",
        "\n",
        "\t\tfillDecisionTree(tree.subTree[val],decisionTreeAlgo,dfdata)"
      ]
    },
    {
      "cell_type": "code",
      "execution_count": null,
      "metadata": {
        "id": "fHeohczB0kWN"
      },
      "outputs": [],
      "source": [
        "initialObservationIDs = set(range(len(dfdata)))\n",
        "initialFeatures = set(dfdata.columns.values[:-1])"
      ]
    },
    {
      "cell_type": "code",
      "execution_count": null,
      "metadata": {
        "colab": {
          "base_uri": "https://localhost:8080/"
        },
        "id": "A1SSxXKZ0p7s",
        "outputId": "db0a71f0-2916-41ed-b9c2-305dffcf4c8d"
      },
      "outputs": [
        {
          "name": "stdout",
          "output_type": "stream",
          "text": [
            "Which decision tree algorithm would you like to use ('ID3' or 'C45)?C45\n",
            "choice: C45\n"
          ]
        }
      ],
      "source": [
        "algoChoice = str(input((\"Which decision tree algorithm would you like to use ('ID3' or 'C45)?\")))\n",
        "if algoChoice not in {'ID3','C45'}:\n",
        "\tprint(\"Invalid algorithm choice. You must choose 'ID3' or 'C45'\")\n",
        "\texit()\n",
        "\n",
        "print(\"choice: {}\".format(algoChoice))\n",
        "# algoChoice = str(input((\"Which decision tree algorithm would you like to use ('ID3' or 'C45)?\")))\n",
        "# if algoChoice not in {'ID3','C45'}:\n",
        "# \tprint(\"Invalid algorithm choice. You must choose 'ID3' or 'C45'\")\n",
        "# \texit()\n",
        "algoChoice = 'ID3'\n",
        "print(\"choice: {}\".format(algoChoice))"
      ]
    },
    {
      "cell_type": "code",
      "execution_count": null,
      "metadata": {
        "id": "FKIwcCS90suE"
      },
      "outputs": [],
      "source": [
        "MyTree = Tree(initialObservationIDs,initialFeatures)\n",
        "fillDecisionTree(MyTree,algoChoice,dfdata)\n",
        "\n",
        "print('My Decision Tree:')\n",
        "displayDecisionTree(MyTree)"
      ]
    },
    {
      "cell_type": "markdown",
      "metadata": {
        "id": "KcHmmLdWJLMv"
      },
      "source": [
        "dùng hàm vẽ cây:"
      ]
    },
    {
      "cell_type": "code",
      "execution_count": null,
      "metadata": {
        "id": "4jxpYAGX6lRq"
      },
      "outputs": [],
      "source": [
        "from matplotlib import pyplot as plt\n",
        "from sklearn import datasets\n",
        "from sklearn.tree import DecisionTreeClassifier\n",
        "from sklearn import tree\n",
        "import pandas as pd"
      ]
    },
    {
      "cell_type": "code",
      "execution_count": null,
      "metadata": {
        "id": "b9BO0GkLzdM0"
      },
      "outputs": [],
      "source": [
        "dfdata = pd.read_csv('/content/drive/MyDrive/Dataset-football-train.txt',sep='\\t')"
      ]
    },
    {
      "cell_type": "code",
      "execution_count": null,
      "metadata": {
        "id": "cfRm2i5Ozf4j"
      },
      "outputs": [],
      "source": [
        "dfdata=dfdata[['Is_Home_or_Away','Is_Opponent_in_AP25_Preseason','Media','Label']]"
      ]
    },
    {
      "cell_type": "code",
      "execution_count": null,
      "metadata": {
        "id": "UBfLGJiB6qqC"
      },
      "outputs": [],
      "source": [
        "from sklearn.preprocessing import LabelEncoder\n",
        "le=LabelEncoder()\n",
        "dfdata['Is_Home_or_Away']=le.fit_transform(dfdata['Is_Home_or_Away'])\n",
        "dfdata['Is_Opponent_in_AP25_Preseason']=le.fit_transform(dfdata['Is_Opponent_in_AP25_Preseason'])\n",
        "dfdata['Media']=le.fit_transform(dfdata['Media'])"
      ]
    },
    {
      "cell_type": "code",
      "execution_count": null,
      "metadata": {
        "colab": {
          "base_uri": "https://localhost:8080/",
          "height": 74
        },
        "id": "k6C5K-Gk7CNK",
        "outputId": "ebc9d5f8-e16d-4240-8b14-a07fa74a080b"
      },
      "outputs": [
        {
          "data": {
            "text/html": [
              "<style>#sk-container-id-1 {color: black;background-color: white;}#sk-container-id-1 pre{padding: 0;}#sk-container-id-1 div.sk-toggleable {background-color: white;}#sk-container-id-1 label.sk-toggleable__label {cursor: pointer;display: block;width: 100%;margin-bottom: 0;padding: 0.3em;box-sizing: border-box;text-align: center;}#sk-container-id-1 label.sk-toggleable__label-arrow:before {content: \"▸\";float: left;margin-right: 0.25em;color: #696969;}#sk-container-id-1 label.sk-toggleable__label-arrow:hover:before {color: black;}#sk-container-id-1 div.sk-estimator:hover label.sk-toggleable__label-arrow:before {color: black;}#sk-container-id-1 div.sk-toggleable__content {max-height: 0;max-width: 0;overflow: hidden;text-align: left;background-color: #f0f8ff;}#sk-container-id-1 div.sk-toggleable__content pre {margin: 0.2em;color: black;border-radius: 0.25em;background-color: #f0f8ff;}#sk-container-id-1 input.sk-toggleable__control:checked~div.sk-toggleable__content {max-height: 200px;max-width: 100%;overflow: auto;}#sk-container-id-1 input.sk-toggleable__control:checked~label.sk-toggleable__label-arrow:before {content: \"▾\";}#sk-container-id-1 div.sk-estimator input.sk-toggleable__control:checked~label.sk-toggleable__label {background-color: #d4ebff;}#sk-container-id-1 div.sk-label input.sk-toggleable__control:checked~label.sk-toggleable__label {background-color: #d4ebff;}#sk-container-id-1 input.sk-hidden--visually {border: 0;clip: rect(1px 1px 1px 1px);clip: rect(1px, 1px, 1px, 1px);height: 1px;margin: -1px;overflow: hidden;padding: 0;position: absolute;width: 1px;}#sk-container-id-1 div.sk-estimator {font-family: monospace;background-color: #f0f8ff;border: 1px dotted black;border-radius: 0.25em;box-sizing: border-box;margin-bottom: 0.5em;}#sk-container-id-1 div.sk-estimator:hover {background-color: #d4ebff;}#sk-container-id-1 div.sk-parallel-item::after {content: \"\";width: 100%;border-bottom: 1px solid gray;flex-grow: 1;}#sk-container-id-1 div.sk-label:hover label.sk-toggleable__label {background-color: #d4ebff;}#sk-container-id-1 div.sk-serial::before {content: \"\";position: absolute;border-left: 1px solid gray;box-sizing: border-box;top: 0;bottom: 0;left: 50%;z-index: 0;}#sk-container-id-1 div.sk-serial {display: flex;flex-direction: column;align-items: center;background-color: white;padding-right: 0.2em;padding-left: 0.2em;position: relative;}#sk-container-id-1 div.sk-item {position: relative;z-index: 1;}#sk-container-id-1 div.sk-parallel {display: flex;align-items: stretch;justify-content: center;background-color: white;position: relative;}#sk-container-id-1 div.sk-item::before, #sk-container-id-1 div.sk-parallel-item::before {content: \"\";position: absolute;border-left: 1px solid gray;box-sizing: border-box;top: 0;bottom: 0;left: 50%;z-index: -1;}#sk-container-id-1 div.sk-parallel-item {display: flex;flex-direction: column;z-index: 1;position: relative;background-color: white;}#sk-container-id-1 div.sk-parallel-item:first-child::after {align-self: flex-end;width: 50%;}#sk-container-id-1 div.sk-parallel-item:last-child::after {align-self: flex-start;width: 50%;}#sk-container-id-1 div.sk-parallel-item:only-child::after {width: 0;}#sk-container-id-1 div.sk-dashed-wrapped {border: 1px dashed gray;margin: 0 0.4em 0.5em 0.4em;box-sizing: border-box;padding-bottom: 0.4em;background-color: white;}#sk-container-id-1 div.sk-label label {font-family: monospace;font-weight: bold;display: inline-block;line-height: 1.2em;}#sk-container-id-1 div.sk-label-container {text-align: center;}#sk-container-id-1 div.sk-container {/* jupyter's `normalize.less` sets `[hidden] { display: none; }` but bootstrap.min.css set `[hidden] { display: none !important; }` so we also need the `!important` here to be able to override the default hidden behavior on the sphinx rendered scikit-learn.org. See: https://github.com/scikit-learn/scikit-learn/issues/21755 */display: inline-block !important;position: relative;}#sk-container-id-1 div.sk-text-repr-fallback {display: none;}</style><div id=\"sk-container-id-1\" class=\"sk-top-container\"><div class=\"sk-text-repr-fallback\"><pre>DecisionTreeClassifier()</pre><b>In a Jupyter environment, please rerun this cell to show the HTML representation or trust the notebook. <br />On GitHub, the HTML representation is unable to render, please try loading this page with nbviewer.org.</b></div><div class=\"sk-container\" hidden><div class=\"sk-item\"><div class=\"sk-estimator sk-toggleable\"><input class=\"sk-toggleable__control sk-hidden--visually\" id=\"sk-estimator-id-1\" type=\"checkbox\" checked><label for=\"sk-estimator-id-1\" class=\"sk-toggleable__label sk-toggleable__label-arrow\">DecisionTreeClassifier</label><div class=\"sk-toggleable__content\"><pre>DecisionTreeClassifier()</pre></div></div></div></div></div>"
            ],
            "text/plain": [
              "DecisionTreeClassifier()"
            ]
          },
          "execution_count": 8,
          "metadata": {},
          "output_type": "execute_result"
        }
      ],
      "source": [
        "dt = DecisionTreeClassifier()\n",
        "x=dfdata[['Is_Home_or_Away','Is_Opponent_in_AP25_Preseason','Media']]\n",
        "y=dfdata[['Label']]\n",
        "dt.fit(x, y)"
      ]
    },
    {
      "cell_type": "code",
      "execution_count": null,
      "metadata": {
        "colab": {
          "base_uri": "https://localhost:8080/",
          "height": 758
        },
        "id": "wLgy2YTE7w4c",
        "outputId": "7000a55c-2c0b-4bf7-815f-a09a91aa20f1"
      },
      "outputs": [
        {
          "data": {
            "image/svg+xml": [
              "<?xml version=\"1.0\" encoding=\"UTF-8\" standalone=\"no\"?>\n",
              "<!DOCTYPE svg PUBLIC \"-//W3C//DTD SVG 1.1//EN\"\n",
              " \"http://www.w3.org/Graphics/SVG/1.1/DTD/svg11.dtd\">\n",
              "<!-- Generated by graphviz version 2.43.0 (0)\n",
              " -->\n",
              "<!-- Title: Tree Pages: 1 -->\n",
              "<svg width=\"713pt\" height=\"552pt\"\n",
              " viewBox=\"0.00 0.00 713.00 552.00\" xmlns=\"http://www.w3.org/2000/svg\" xmlns:xlink=\"http://www.w3.org/1999/xlink\">\n",
              "<g id=\"graph0\" class=\"graph\" transform=\"scale(1 1) rotate(0) translate(4 548)\">\n",
              "<title>Tree</title>\n",
              "<polygon fill=\"white\" stroke=\"transparent\" points=\"-4,4 -4,-548 709,-548 709,4 -4,4\"/>\n",
              "<!-- 0 -->\n",
              "<g id=\"node1\" class=\"node\">\n",
              "<title>0</title>\n",
              "<path fill=\"#c6e3f8\" stroke=\"black\" d=\"M359.5,-544C359.5,-544 115.5,-544 115.5,-544 109.5,-544 103.5,-538 103.5,-532 103.5,-532 103.5,-473 103.5,-473 103.5,-467 109.5,-461 115.5,-461 115.5,-461 359.5,-461 359.5,-461 365.5,-461 371.5,-467 371.5,-473 371.5,-473 371.5,-532 371.5,-532 371.5,-538 365.5,-544 359.5,-544\"/>\n",
              "<text text-anchor=\"middle\" x=\"237.5\" y=\"-528.8\" font-family=\"Helvetica,sans-Serif\" font-size=\"14.00\">Is_Opponent_in_AP25_Preseason &lt;= 0.5</text>\n",
              "<text text-anchor=\"middle\" x=\"237.5\" y=\"-513.8\" font-family=\"Helvetica,sans-Serif\" font-size=\"14.00\">gini = 0.486</text>\n",
              "<text text-anchor=\"middle\" x=\"237.5\" y=\"-498.8\" font-family=\"Helvetica,sans-Serif\" font-size=\"14.00\">samples = 24</text>\n",
              "<text text-anchor=\"middle\" x=\"237.5\" y=\"-483.8\" font-family=\"Helvetica,sans-Serif\" font-size=\"14.00\">value = [10, 14]</text>\n",
              "<text text-anchor=\"middle\" x=\"237.5\" y=\"-468.8\" font-family=\"Helvetica,sans-Serif\" font-size=\"14.00\">class = Lose</text>\n",
              "</g>\n",
              "<!-- 1 -->\n",
              "<g id=\"node2\" class=\"node\">\n",
              "<title>1</title>\n",
              "<path fill=\"#efb388\" stroke=\"black\" d=\"M234.5,-425C234.5,-425 84.5,-425 84.5,-425 78.5,-425 72.5,-419 72.5,-413 72.5,-413 72.5,-354 72.5,-354 72.5,-348 78.5,-342 84.5,-342 84.5,-342 234.5,-342 234.5,-342 240.5,-342 246.5,-348 246.5,-354 246.5,-354 246.5,-413 246.5,-413 246.5,-419 240.5,-425 234.5,-425\"/>\n",
              "<text text-anchor=\"middle\" x=\"159.5\" y=\"-409.8\" font-family=\"Helvetica,sans-Serif\" font-size=\"14.00\">Is_Home_or_Away &lt;= 0.5</text>\n",
              "<text text-anchor=\"middle\" x=\"159.5\" y=\"-394.8\" font-family=\"Helvetica,sans-Serif\" font-size=\"14.00\">gini = 0.408</text>\n",
              "<text text-anchor=\"middle\" x=\"159.5\" y=\"-379.8\" font-family=\"Helvetica,sans-Serif\" font-size=\"14.00\">samples = 7</text>\n",
              "<text text-anchor=\"middle\" x=\"159.5\" y=\"-364.8\" font-family=\"Helvetica,sans-Serif\" font-size=\"14.00\">value = [5, 2]</text>\n",
              "<text text-anchor=\"middle\" x=\"159.5\" y=\"-349.8\" font-family=\"Helvetica,sans-Serif\" font-size=\"14.00\">class = Win</text>\n",
              "</g>\n",
              "<!-- 0&#45;&gt;1 -->\n",
              "<g id=\"edge1\" class=\"edge\">\n",
              "<title>0&#45;&gt;1</title>\n",
              "<path fill=\"none\" stroke=\"black\" d=\"M210.44,-460.91C204.57,-452.1 198.3,-442.7 192.24,-433.61\"/>\n",
              "<polygon fill=\"black\" stroke=\"black\" points=\"194.97,-431.4 186.51,-425.02 189.15,-435.28 194.97,-431.4\"/>\n",
              "<text text-anchor=\"middle\" x=\"181.61\" y=\"-445.84\" font-family=\"Helvetica,sans-Serif\" font-size=\"14.00\">True</text>\n",
              "</g>\n",
              "<!-- 4 -->\n",
              "<g id=\"node5\" class=\"node\">\n",
              "<title>4</title>\n",
              "<path fill=\"#8bc6f0\" stroke=\"black\" d=\"M354.5,-425C354.5,-425 276.5,-425 276.5,-425 270.5,-425 264.5,-419 264.5,-413 264.5,-413 264.5,-354 264.5,-354 264.5,-348 270.5,-342 276.5,-342 276.5,-342 354.5,-342 354.5,-342 360.5,-342 366.5,-348 366.5,-354 366.5,-354 366.5,-413 366.5,-413 366.5,-419 360.5,-425 354.5,-425\"/>\n",
              "<text text-anchor=\"middle\" x=\"315.5\" y=\"-409.8\" font-family=\"Helvetica,sans-Serif\" font-size=\"14.00\">Media &lt;= 1.5</text>\n",
              "<text text-anchor=\"middle\" x=\"315.5\" y=\"-394.8\" font-family=\"Helvetica,sans-Serif\" font-size=\"14.00\">gini = 0.415</text>\n",
              "<text text-anchor=\"middle\" x=\"315.5\" y=\"-379.8\" font-family=\"Helvetica,sans-Serif\" font-size=\"14.00\">samples = 17</text>\n",
              "<text text-anchor=\"middle\" x=\"315.5\" y=\"-364.8\" font-family=\"Helvetica,sans-Serif\" font-size=\"14.00\">value = [5, 12]</text>\n",
              "<text text-anchor=\"middle\" x=\"315.5\" y=\"-349.8\" font-family=\"Helvetica,sans-Serif\" font-size=\"14.00\">class = Lose</text>\n",
              "</g>\n",
              "<!-- 0&#45;&gt;4 -->\n",
              "<g id=\"edge4\" class=\"edge\">\n",
              "<title>0&#45;&gt;4</title>\n",
              "<path fill=\"none\" stroke=\"black\" d=\"M264.56,-460.91C270.43,-452.1 276.7,-442.7 282.76,-433.61\"/>\n",
              "<polygon fill=\"black\" stroke=\"black\" points=\"285.85,-435.28 288.49,-425.02 280.03,-431.4 285.85,-435.28\"/>\n",
              "<text text-anchor=\"middle\" x=\"293.39\" y=\"-445.84\" font-family=\"Helvetica,sans-Serif\" font-size=\"14.00\">False</text>\n",
              "</g>\n",
              "<!-- 2 -->\n",
              "<g id=\"node3\" class=\"node\">\n",
              "<title>2</title>\n",
              "<path fill=\"#e58139\" stroke=\"black\" d=\"M83,-298.5C83,-298.5 12,-298.5 12,-298.5 6,-298.5 0,-292.5 0,-286.5 0,-286.5 0,-242.5 0,-242.5 0,-236.5 6,-230.5 12,-230.5 12,-230.5 83,-230.5 83,-230.5 89,-230.5 95,-236.5 95,-242.5 95,-242.5 95,-286.5 95,-286.5 95,-292.5 89,-298.5 83,-298.5\"/>\n",
              "<text text-anchor=\"middle\" x=\"47.5\" y=\"-283.3\" font-family=\"Helvetica,sans-Serif\" font-size=\"14.00\">gini = 0.0</text>\n",
              "<text text-anchor=\"middle\" x=\"47.5\" y=\"-268.3\" font-family=\"Helvetica,sans-Serif\" font-size=\"14.00\">samples = 3</text>\n",
              "<text text-anchor=\"middle\" x=\"47.5\" y=\"-253.3\" font-family=\"Helvetica,sans-Serif\" font-size=\"14.00\">value = [3, 0]</text>\n",
              "<text text-anchor=\"middle\" x=\"47.5\" y=\"-238.3\" font-family=\"Helvetica,sans-Serif\" font-size=\"14.00\">class = Win</text>\n",
              "</g>\n",
              "<!-- 1&#45;&gt;2 -->\n",
              "<g id=\"edge2\" class=\"edge\">\n",
              "<title>1&#45;&gt;2</title>\n",
              "<path fill=\"none\" stroke=\"black\" d=\"M120.64,-341.91C109.55,-330.32 97.47,-317.7 86.38,-306.11\"/>\n",
              "<polygon fill=\"black\" stroke=\"black\" points=\"88.69,-303.47 79.25,-298.67 83.64,-308.31 88.69,-303.47\"/>\n",
              "</g>\n",
              "<!-- 3 -->\n",
              "<g id=\"node4\" class=\"node\">\n",
              "<title>3</title>\n",
              "<path fill=\"#ffffff\" stroke=\"black\" d=\"M196,-298.5C196,-298.5 125,-298.5 125,-298.5 119,-298.5 113,-292.5 113,-286.5 113,-286.5 113,-242.5 113,-242.5 113,-236.5 119,-230.5 125,-230.5 125,-230.5 196,-230.5 196,-230.5 202,-230.5 208,-236.5 208,-242.5 208,-242.5 208,-286.5 208,-286.5 208,-292.5 202,-298.5 196,-298.5\"/>\n",
              "<text text-anchor=\"middle\" x=\"160.5\" y=\"-283.3\" font-family=\"Helvetica,sans-Serif\" font-size=\"14.00\">gini = 0.5</text>\n",
              "<text text-anchor=\"middle\" x=\"160.5\" y=\"-268.3\" font-family=\"Helvetica,sans-Serif\" font-size=\"14.00\">samples = 4</text>\n",
              "<text text-anchor=\"middle\" x=\"160.5\" y=\"-253.3\" font-family=\"Helvetica,sans-Serif\" font-size=\"14.00\">value = [2, 2]</text>\n",
              "<text text-anchor=\"middle\" x=\"160.5\" y=\"-238.3\" font-family=\"Helvetica,sans-Serif\" font-size=\"14.00\">class = Win</text>\n",
              "</g>\n",
              "<!-- 1&#45;&gt;3 -->\n",
              "<g id=\"edge3\" class=\"edge\">\n",
              "<title>1&#45;&gt;3</title>\n",
              "<path fill=\"none\" stroke=\"black\" d=\"M159.85,-341.91C159.94,-331.2 160.04,-319.62 160.13,-308.78\"/>\n",
              "<polygon fill=\"black\" stroke=\"black\" points=\"163.63,-308.7 160.22,-298.67 156.63,-308.64 163.63,-308.7\"/>\n",
              "</g>\n",
              "<!-- 5 -->\n",
              "<g id=\"node6\" class=\"node\">\n",
              "<title>5</title>\n",
              "<path fill=\"#ffffff\" stroke=\"black\" d=\"M389.5,-306C389.5,-306 239.5,-306 239.5,-306 233.5,-306 227.5,-300 227.5,-294 227.5,-294 227.5,-235 227.5,-235 227.5,-229 233.5,-223 239.5,-223 239.5,-223 389.5,-223 389.5,-223 395.5,-223 401.5,-229 401.5,-235 401.5,-235 401.5,-294 401.5,-294 401.5,-300 395.5,-306 389.5,-306\"/>\n",
              "<text text-anchor=\"middle\" x=\"314.5\" y=\"-290.8\" font-family=\"Helvetica,sans-Serif\" font-size=\"14.00\">Is_Home_or_Away &lt;= 0.5</text>\n",
              "<text text-anchor=\"middle\" x=\"314.5\" y=\"-275.8\" font-family=\"Helvetica,sans-Serif\" font-size=\"14.00\">gini = 0.5</text>\n",
              "<text text-anchor=\"middle\" x=\"314.5\" y=\"-260.8\" font-family=\"Helvetica,sans-Serif\" font-size=\"14.00\">samples = 6</text>\n",
              "<text text-anchor=\"middle\" x=\"314.5\" y=\"-245.8\" font-family=\"Helvetica,sans-Serif\" font-size=\"14.00\">value = [3, 3]</text>\n",
              "<text text-anchor=\"middle\" x=\"314.5\" y=\"-230.8\" font-family=\"Helvetica,sans-Serif\" font-size=\"14.00\">class = Win</text>\n",
              "</g>\n",
              "<!-- 4&#45;&gt;5 -->\n",
              "<g id=\"edge5\" class=\"edge\">\n",
              "<title>4&#45;&gt;5</title>\n",
              "<path fill=\"none\" stroke=\"black\" d=\"M315.15,-341.91C315.08,-333.65 315.01,-324.86 314.93,-316.3\"/>\n",
              "<polygon fill=\"black\" stroke=\"black\" points=\"318.43,-315.99 314.85,-306.02 311.43,-316.05 318.43,-315.99\"/>\n",
              "</g>\n",
              "<!-- 8 -->\n",
              "<g id=\"node9\" class=\"node\">\n",
              "<title>8</title>\n",
              "<path fill=\"#65b3eb\" stroke=\"black\" d=\"M581.5,-306C581.5,-306 431.5,-306 431.5,-306 425.5,-306 419.5,-300 419.5,-294 419.5,-294 419.5,-235 419.5,-235 419.5,-229 425.5,-223 431.5,-223 431.5,-223 581.5,-223 581.5,-223 587.5,-223 593.5,-229 593.5,-235 593.5,-235 593.5,-294 593.5,-294 593.5,-300 587.5,-306 581.5,-306\"/>\n",
              "<text text-anchor=\"middle\" x=\"506.5\" y=\"-290.8\" font-family=\"Helvetica,sans-Serif\" font-size=\"14.00\">Is_Home_or_Away &lt;= 0.5</text>\n",
              "<text text-anchor=\"middle\" x=\"506.5\" y=\"-275.8\" font-family=\"Helvetica,sans-Serif\" font-size=\"14.00\">gini = 0.298</text>\n",
              "<text text-anchor=\"middle\" x=\"506.5\" y=\"-260.8\" font-family=\"Helvetica,sans-Serif\" font-size=\"14.00\">samples = 11</text>\n",
              "<text text-anchor=\"middle\" x=\"506.5\" y=\"-245.8\" font-family=\"Helvetica,sans-Serif\" font-size=\"14.00\">value = [2, 9]</text>\n",
              "<text text-anchor=\"middle\" x=\"506.5\" y=\"-230.8\" font-family=\"Helvetica,sans-Serif\" font-size=\"14.00\">class = Lose</text>\n",
              "</g>\n",
              "<!-- 4&#45;&gt;8 -->\n",
              "<g id=\"edge8\" class=\"edge\">\n",
              "<title>4&#45;&gt;8</title>\n",
              "<path fill=\"none\" stroke=\"black\" d=\"M366.68,-351.15C386.59,-338.96 409.78,-324.74 431.5,-311.44\"/>\n",
              "<polygon fill=\"black\" stroke=\"black\" points=\"433.36,-314.41 440.06,-306.2 429.7,-308.44 433.36,-314.41\"/>\n",
              "</g>\n",
              "<!-- 6 -->\n",
              "<g id=\"node7\" class=\"node\">\n",
              "<title>6</title>\n",
              "<path fill=\"#bddef6\" stroke=\"black\" d=\"M257,-179.5C257,-179.5 186,-179.5 186,-179.5 180,-179.5 174,-173.5 174,-167.5 174,-167.5 174,-123.5 174,-123.5 174,-117.5 180,-111.5 186,-111.5 186,-111.5 257,-111.5 257,-111.5 263,-111.5 269,-117.5 269,-123.5 269,-123.5 269,-167.5 269,-167.5 269,-173.5 263,-179.5 257,-179.5\"/>\n",
              "<text text-anchor=\"middle\" x=\"221.5\" y=\"-164.3\" font-family=\"Helvetica,sans-Serif\" font-size=\"14.00\">gini = 0.48</text>\n",
              "<text text-anchor=\"middle\" x=\"221.5\" y=\"-149.3\" font-family=\"Helvetica,sans-Serif\" font-size=\"14.00\">samples = 5</text>\n",
              "<text text-anchor=\"middle\" x=\"221.5\" y=\"-134.3\" font-family=\"Helvetica,sans-Serif\" font-size=\"14.00\">value = [2, 3]</text>\n",
              "<text text-anchor=\"middle\" x=\"221.5\" y=\"-119.3\" font-family=\"Helvetica,sans-Serif\" font-size=\"14.00\">class = Lose</text>\n",
              "</g>\n",
              "<!-- 5&#45;&gt;6 -->\n",
              "<g id=\"edge6\" class=\"edge\">\n",
              "<title>5&#45;&gt;6</title>\n",
              "<path fill=\"none\" stroke=\"black\" d=\"M282.23,-222.91C273.2,-211.54 263.37,-199.18 254.31,-187.77\"/>\n",
              "<polygon fill=\"black\" stroke=\"black\" points=\"256.83,-185.32 247.86,-179.67 251.35,-189.67 256.83,-185.32\"/>\n",
              "</g>\n",
              "<!-- 7 -->\n",
              "<g id=\"node8\" class=\"node\">\n",
              "<title>7</title>\n",
              "<path fill=\"#e58139\" stroke=\"black\" d=\"M370,-179.5C370,-179.5 299,-179.5 299,-179.5 293,-179.5 287,-173.5 287,-167.5 287,-167.5 287,-123.5 287,-123.5 287,-117.5 293,-111.5 299,-111.5 299,-111.5 370,-111.5 370,-111.5 376,-111.5 382,-117.5 382,-123.5 382,-123.5 382,-167.5 382,-167.5 382,-173.5 376,-179.5 370,-179.5\"/>\n",
              "<text text-anchor=\"middle\" x=\"334.5\" y=\"-164.3\" font-family=\"Helvetica,sans-Serif\" font-size=\"14.00\">gini = 0.0</text>\n",
              "<text text-anchor=\"middle\" x=\"334.5\" y=\"-149.3\" font-family=\"Helvetica,sans-Serif\" font-size=\"14.00\">samples = 1</text>\n",
              "<text text-anchor=\"middle\" x=\"334.5\" y=\"-134.3\" font-family=\"Helvetica,sans-Serif\" font-size=\"14.00\">value = [1, 0]</text>\n",
              "<text text-anchor=\"middle\" x=\"334.5\" y=\"-119.3\" font-family=\"Helvetica,sans-Serif\" font-size=\"14.00\">class = Win</text>\n",
              "</g>\n",
              "<!-- 5&#45;&gt;7 -->\n",
              "<g id=\"edge7\" class=\"edge\">\n",
              "<title>5&#45;&gt;7</title>\n",
              "<path fill=\"none\" stroke=\"black\" d=\"M321.44,-222.91C323.27,-212.2 325.25,-200.62 327.1,-189.78\"/>\n",
              "<polygon fill=\"black\" stroke=\"black\" points=\"330.6,-190.11 328.83,-179.67 323.7,-188.93 330.6,-190.11\"/>\n",
              "</g>\n",
              "<!-- 9 -->\n",
              "<g id=\"node10\" class=\"node\">\n",
              "<title>9</title>\n",
              "<path fill=\"#399de5\" stroke=\"black\" d=\"M522,-179.5C522,-179.5 451,-179.5 451,-179.5 445,-179.5 439,-173.5 439,-167.5 439,-167.5 439,-123.5 439,-123.5 439,-117.5 445,-111.5 451,-111.5 451,-111.5 522,-111.5 522,-111.5 528,-111.5 534,-117.5 534,-123.5 534,-123.5 534,-167.5 534,-167.5 534,-173.5 528,-179.5 522,-179.5\"/>\n",
              "<text text-anchor=\"middle\" x=\"486.5\" y=\"-164.3\" font-family=\"Helvetica,sans-Serif\" font-size=\"14.00\">gini = 0.0</text>\n",
              "<text text-anchor=\"middle\" x=\"486.5\" y=\"-149.3\" font-family=\"Helvetica,sans-Serif\" font-size=\"14.00\">samples = 1</text>\n",
              "<text text-anchor=\"middle\" x=\"486.5\" y=\"-134.3\" font-family=\"Helvetica,sans-Serif\" font-size=\"14.00\">value = [0, 1]</text>\n",
              "<text text-anchor=\"middle\" x=\"486.5\" y=\"-119.3\" font-family=\"Helvetica,sans-Serif\" font-size=\"14.00\">class = Lose</text>\n",
              "</g>\n",
              "<!-- 8&#45;&gt;9 -->\n",
              "<g id=\"edge9\" class=\"edge\">\n",
              "<title>8&#45;&gt;9</title>\n",
              "<path fill=\"none\" stroke=\"black\" d=\"M499.56,-222.91C497.73,-212.2 495.75,-200.62 493.9,-189.78\"/>\n",
              "<polygon fill=\"black\" stroke=\"black\" points=\"497.3,-188.93 492.17,-179.67 490.4,-190.11 497.3,-188.93\"/>\n",
              "</g>\n",
              "<!-- 10 -->\n",
              "<g id=\"node11\" class=\"node\">\n",
              "<title>10</title>\n",
              "<path fill=\"#6ab6ec\" stroke=\"black\" d=\"M638.5,-187C638.5,-187 564.5,-187 564.5,-187 558.5,-187 552.5,-181 552.5,-175 552.5,-175 552.5,-116 552.5,-116 552.5,-110 558.5,-104 564.5,-104 564.5,-104 638.5,-104 638.5,-104 644.5,-104 650.5,-110 650.5,-116 650.5,-116 650.5,-175 650.5,-175 650.5,-181 644.5,-187 638.5,-187\"/>\n",
              "<text text-anchor=\"middle\" x=\"601.5\" y=\"-171.8\" font-family=\"Helvetica,sans-Serif\" font-size=\"14.00\">Media &lt;= 3.0</text>\n",
              "<text text-anchor=\"middle\" x=\"601.5\" y=\"-156.8\" font-family=\"Helvetica,sans-Serif\" font-size=\"14.00\">gini = 0.32</text>\n",
              "<text text-anchor=\"middle\" x=\"601.5\" y=\"-141.8\" font-family=\"Helvetica,sans-Serif\" font-size=\"14.00\">samples = 10</text>\n",
              "<text text-anchor=\"middle\" x=\"601.5\" y=\"-126.8\" font-family=\"Helvetica,sans-Serif\" font-size=\"14.00\">value = [2, 8]</text>\n",
              "<text text-anchor=\"middle\" x=\"601.5\" y=\"-111.8\" font-family=\"Helvetica,sans-Serif\" font-size=\"14.00\">class = Lose</text>\n",
              "</g>\n",
              "<!-- 8&#45;&gt;10 -->\n",
              "<g id=\"edge10\" class=\"edge\">\n",
              "<title>8&#45;&gt;10</title>\n",
              "<path fill=\"none\" stroke=\"black\" d=\"M539.46,-222.91C546.75,-213.92 554.56,-204.32 562.08,-195.05\"/>\n",
              "<polygon fill=\"black\" stroke=\"black\" points=\"565.01,-196.99 568.6,-187.02 559.58,-192.58 565.01,-196.99\"/>\n",
              "</g>\n",
              "<!-- 11 -->\n",
              "<g id=\"node12\" class=\"node\">\n",
              "<title>11</title>\n",
              "<path fill=\"#399de5\" stroke=\"black\" d=\"M580,-68C580,-68 509,-68 509,-68 503,-68 497,-62 497,-56 497,-56 497,-12 497,-12 497,-6 503,0 509,0 509,0 580,0 580,0 586,0 592,-6 592,-12 592,-12 592,-56 592,-56 592,-62 586,-68 580,-68\"/>\n",
              "<text text-anchor=\"middle\" x=\"544.5\" y=\"-52.8\" font-family=\"Helvetica,sans-Serif\" font-size=\"14.00\">gini = 0.0</text>\n",
              "<text text-anchor=\"middle\" x=\"544.5\" y=\"-37.8\" font-family=\"Helvetica,sans-Serif\" font-size=\"14.00\">samples = 1</text>\n",
              "<text text-anchor=\"middle\" x=\"544.5\" y=\"-22.8\" font-family=\"Helvetica,sans-Serif\" font-size=\"14.00\">value = [0, 1]</text>\n",
              "<text text-anchor=\"middle\" x=\"544.5\" y=\"-7.8\" font-family=\"Helvetica,sans-Serif\" font-size=\"14.00\">class = Lose</text>\n",
              "</g>\n",
              "<!-- 10&#45;&gt;11 -->\n",
              "<g id=\"edge11\" class=\"edge\">\n",
              "<title>10&#45;&gt;11</title>\n",
              "<path fill=\"none\" stroke=\"black\" d=\"M580.28,-103.73C575.76,-95.06 570.99,-85.9 566.46,-77.18\"/>\n",
              "<polygon fill=\"black\" stroke=\"black\" points=\"569.56,-75.55 561.83,-68.3 563.35,-78.79 569.56,-75.55\"/>\n",
              "</g>\n",
              "<!-- 12 -->\n",
              "<g id=\"node13\" class=\"node\">\n",
              "<title>12</title>\n",
              "<path fill=\"#72b9ec\" stroke=\"black\" d=\"M693,-68C693,-68 622,-68 622,-68 616,-68 610,-62 610,-56 610,-56 610,-12 610,-12 610,-6 616,0 622,0 622,0 693,0 693,0 699,0 705,-6 705,-12 705,-12 705,-56 705,-56 705,-62 699,-68 693,-68\"/>\n",
              "<text text-anchor=\"middle\" x=\"657.5\" y=\"-52.8\" font-family=\"Helvetica,sans-Serif\" font-size=\"14.00\">gini = 0.346</text>\n",
              "<text text-anchor=\"middle\" x=\"657.5\" y=\"-37.8\" font-family=\"Helvetica,sans-Serif\" font-size=\"14.00\">samples = 9</text>\n",
              "<text text-anchor=\"middle\" x=\"657.5\" y=\"-22.8\" font-family=\"Helvetica,sans-Serif\" font-size=\"14.00\">value = [2, 7]</text>\n",
              "<text text-anchor=\"middle\" x=\"657.5\" y=\"-7.8\" font-family=\"Helvetica,sans-Serif\" font-size=\"14.00\">class = Lose</text>\n",
              "</g>\n",
              "<!-- 10&#45;&gt;12 -->\n",
              "<g id=\"edge12\" class=\"edge\">\n",
              "<title>10&#45;&gt;12</title>\n",
              "<path fill=\"none\" stroke=\"black\" d=\"M622.35,-103.73C626.74,-95.15 631.37,-86.09 635.79,-77.46\"/>\n",
              "<polygon fill=\"black\" stroke=\"black\" points=\"639.03,-78.8 640.47,-68.3 632.8,-75.61 639.03,-78.8\"/>\n",
              "</g>\n",
              "</g>\n",
              "</svg>\n"
            ],
            "text/plain": [
              "<graphviz.sources.Source at 0x7f890fd5e6e0>"
            ]
          },
          "execution_count": 9,
          "metadata": {},
          "output_type": "execute_result"
        }
      ],
      "source": [
        "import graphviz\n",
        "dot_data = tree.export_graphviz(dt,feature_names=['Is_Home_or_Away','Is_Opponent_in_AP25_Preseason','Media'],\n",
        "                                class_names=['Win', 'Lose'],\n",
        "                                rounded=True,filled=True)\n",
        "graph = graphviz.Source(dot_data, format=\"png\")\n",
        "graph"
      ]
    },
    {
      "cell_type": "markdown",
      "metadata": {
        "id": "2obYUH3EJFyv"
      },
      "source": [
        "Chuẩn bị dl_test:"
      ]
    },
    {
      "cell_type": "code",
      "execution_count": null,
      "metadata": {
        "id": "dc7gtxG6AGLb"
      },
      "outputs": [],
      "source": [
        "dfdata = pd.read_csv('/content/drive/MyDrive/fb_test.csv')"
      ]
    },
    {
      "cell_type": "code",
      "execution_count": null,
      "metadata": {
        "colab": {
          "base_uri": "https://localhost:8080/"
        },
        "id": "mbeHU0XVCIOZ",
        "outputId": "68b2352d-9152-4901-e75c-f6ec9c301557"
      },
      "outputs": [
        {
          "name": "stdout",
          "output_type": "stream",
          "text": [
            "   Is_Home_or_Away Is_Opponent_in_AP25_Preseason Media\n",
            "0             Home                           Out   NBC\n",
            "1             Home                            In   NBC\n",
            "2             Away                           Out  ESPN\n",
            "3             Away                           Out   FOX\n",
            "4             Home                           Out   NBC\n",
            "5             Away                           Out   ABC\n",
            "6             Home                            In   NBC\n",
            "7             Home                           Out   NBC\n",
            "8             Home                           Out   NBC\n",
            "9             Away                            In   ABC\n",
            "10            Home                           Out   NBC\n",
            "11            Away                            In   ABC\n"
          ]
        }
      ],
      "source": [
        "dfdata= dfdata[['Is_Home_or_Away','Is_Opponent_in_AP25_Preseason','Media']]\n",
        "print(dfdata)"
      ]
    },
    {
      "cell_type": "code",
      "execution_count": null,
      "metadata": {
        "colab": {
          "base_uri": "https://localhost:8080/"
        },
        "id": "OKv2Kn4UIh9w",
        "outputId": "547365d7-d7a5-4c97-d1fe-f5183b38393c"
      },
      "outputs": [
        {
          "name": "stdout",
          "output_type": "stream",
          "text": [
            "   Is_Home_or_Away Is_Opponent_in_AP25_Preseason Media\n",
            "0             Home                           Out   NBC\n",
            "1             Home                            In   NBC\n",
            "2             Away                           Out  ESPN\n",
            "3             Away                           Out   FOX\n",
            "4             Home                           Out   NBC\n",
            "5             Away                           Out   ABC\n",
            "6             Home                            In   NBC\n",
            "7             Home                           Out   NBC\n",
            "8             Home                           Out   NBC\n",
            "9             Away                            In   ABC\n",
            "10            Home                           Out   NBC\n",
            "11            Away                            In   ABC\n",
            "    Is_Home_or_Away  Is_Opponent_in_AP25_Preseason  Media\n",
            "0                 1                              1      3\n",
            "1                 1                              0      3\n",
            "2                 0                              1      1\n",
            "3                 0                              1      2\n",
            "4                 1                              1      3\n",
            "5                 0                              1      0\n",
            "6                 1                              0      3\n",
            "7                 1                              1      3\n",
            "8                 1                              1      3\n",
            "9                 0                              0      0\n",
            "10                1                              1      3\n",
            "11                0                              0      0\n"
          ]
        }
      ],
      "source": [
        "dfdatat=dfdata[['Is_Home_or_Away','Is_Opponent_in_AP25_Preseason','Media']]\n",
        "dfdatat['Is_Home_or_Away']=le.fit_transform(dfdatat['Is_Home_or_Away'])\n",
        "dfdatat['Is_Opponent_in_AP25_Preseason']=le.fit_transform(dfdatat['Is_Opponent_in_AP25_Preseason'])\n",
        "dfdatat['Media']=le.fit_transform(dfdatat['Media'])\n",
        "print(dfdata)\n",
        "print(dfdatat)\n"
      ]
    },
    {
      "cell_type": "code",
      "execution_count": null,
      "metadata": {
        "colab": {
          "base_uri": "https://localhost:8080/"
        },
        "id": "ckqYIbiQAW2V",
        "outputId": "6599a5fa-e1c9-454b-af93-30e72cc0a93a"
      },
      "outputs": [
        {
          "name": "stdout",
          "output_type": "stream",
          "text": [
            "Pred:  ['Home' 'Out' 'NBC']  =  Win\n",
            "Pred:  ['Home' 'In' 'NBC']  =  Lose\n",
            "Pred:  ['Away' 'Out' 'ESPN']  =  Win\n",
            "Pred:  ['Away' 'Out' 'FOX']  =  Win\n",
            "Pred:  ['Home' 'Out' 'NBC']  =  Win\n",
            "Pred:  ['Away' 'Out' 'ABC']  =  Win\n",
            "Pred:  ['Home' 'In' 'NBC']  =  Lose\n",
            "Pred:  ['Home' 'Out' 'NBC']  =  Win\n",
            "Pred:  ['Home' 'Out' 'NBC']  =  Win\n",
            "Pred:  ['Away' 'In' 'ABC']  =  Lose\n",
            "Pred:  ['Home' 'Out' 'NBC']  =  Win\n",
            "Pred:  ['Away' 'In' 'ABC']  =  Lose\n"
          ]
        }
      ],
      "source": [
        "pred=dt.predict(dfdatat)\n",
        "for i in range (len(dfdata)):\n",
        "  array_1d = dfdata.iloc[i, :].values.flatten()\n",
        "  print(\"Pred: \",array_1d, \" = \", pred[i])\n"
      ]
    },
    {
      "cell_type": "markdown",
      "metadata": {
        "id": "Pyu88rgTeRcr"
      },
      "source": [
        "KNN:"
      ]
    },
    {
      "cell_type": "code",
      "execution_count": null,
      "metadata": {
        "id": "34S_NlEreQ0c"
      },
      "outputs": [],
      "source": [
        "import pandas as pd\n",
        "import numpy as np\n",
        "import os\n",
        "import matplotlib.pyplot as plt\n",
        "import seaborn as sns"
      ]
    },
    {
      "cell_type": "code",
      "execution_count": null,
      "metadata": {
        "id": "F2JCSxx3eg-S"
      },
      "outputs": [],
      "source": [
        "df=pd.read_csv('/content/drive/MyDrive/Iris.csv')\n",
        "df.head()"
      ]
    },
    {
      "cell_type": "code",
      "execution_count": null,
      "metadata": {
        "id": "txZgnQK-esOr"
      },
      "outputs": [],
      "source": [
        "df=df.drop(columns=['Id'])"
      ]
    },
    {
      "cell_type": "code",
      "execution_count": null,
      "metadata": {
        "id": "pQy4DWB5e6AL"
      },
      "outputs": [],
      "source": [
        "df.head()"
      ]
    },
    {
      "cell_type": "code",
      "execution_count": null,
      "metadata": {
        "id": "lwAwTLBge-Da"
      },
      "outputs": [],
      "source": [
        "#TO DISPLAY STATS ABOUT DATA\n",
        "df.info()"
      ]
    },
    {
      "cell_type": "code",
      "execution_count": null,
      "metadata": {
        "id": "p-HiyePHe_6a"
      },
      "outputs": [],
      "source": [
        "#CHECKING NULL VALUES\n",
        "df.isnull().sum()"
      ]
    },
    {
      "cell_type": "code",
      "execution_count": null,
      "metadata": {
        "id": "znl3UKxDf2sr"
      },
      "outputs": [],
      "source": [
        "colors=['red','orange','blue']\n",
        "species=['Iris-setosa','Iris-virginica' ,'Iris-versicolor']"
      ]
    },
    {
      "cell_type": "code",
      "execution_count": null,
      "metadata": {
        "id": "b1b0PUg0f6Ab"
      },
      "outputs": [],
      "source": [
        "for i in range(3):\n",
        "  x=df[df['Species']==species[i]]\n",
        "  plt.scatter(x['SepalLengthCm'],x['SepalWidthCm'],c=colors[i],label=species[i])\n",
        "  plt.xlabel(\"SepalLength\")\n",
        "  plt.ylabel('SepalWidth')\n",
        "  plt.legend()"
      ]
    },
    {
      "cell_type": "code",
      "execution_count": null,
      "metadata": {
        "id": "G4qGiLbAf8-d"
      },
      "outputs": [],
      "source": [
        "for i in range(3):\n",
        "  x=df[df['Species']==species[i]]\n",
        "  plt.scatter(x['PetalLengthCm'],x['PetalWidthCm'],c=colors[i],label=species[i])\n",
        "  plt.xlabel(\"PetalLength\")\n",
        "  plt.ylabel('PetalWidth')\n",
        "  plt.legend()"
      ]
    },
    {
      "cell_type": "code",
      "execution_count": null,
      "metadata": {
        "id": "mMTNn3LDf-4C"
      },
      "outputs": [],
      "source": [
        "for i in range(3):\n",
        "  x=df[df['Species']==species[i]]\n",
        "  plt.scatter(x['SepalLengthCm'],x['PetalLengthCm'],c=colors[i],label=species[i])\n",
        "  plt.xlabel(\"SepalLength\")\n",
        "  plt.ylabel('PetalLength')\n",
        "  plt.legend()"
      ]
    },
    {
      "cell_type": "code",
      "execution_count": null,
      "metadata": {
        "id": "VEaRwUsqgaNy"
      },
      "outputs": [],
      "source": [
        "for i in range(3):\n",
        "  x=df[df['Species']==species[i]]\n",
        "  plt.scatter(x['SepalWidthCm'],x['PetalWidthCm'],c=colors[i],label=species[i])\n",
        "  plt.xlabel(\"SepalWidth\")\n",
        "  plt.ylabel('PetalWidth')\n",
        "  plt.legend()"
      ]
    },
    {
      "cell_type": "code",
      "execution_count": null,
      "metadata": {
        "id": "wQDECAIegEyT"
      },
      "outputs": [],
      "source": [
        "from sklearn.preprocessing import LabelEncoder\n",
        "le=LabelEncoder()\n",
        "df['Species']=le.fit_transform(df['Species'])\n",
        "df.head()"
      ]
    },
    {
      "cell_type": "code",
      "execution_count": null,
      "metadata": {
        "id": "yGMJz0TmgHdz"
      },
      "outputs": [],
      "source": [
        "from sklearn.model_selection import train_test_split #train -70; test -30\n",
        "X=df.drop(columns=['Species'])\n",
        "Y=df['Species']\n",
        "x_train,x_test,y_train,y_test=train_test_split(X,Y,test_size=0.30)"
      ]
    },
    {
      "cell_type": "code",
      "execution_count": null,
      "metadata": {
        "id": "YdT7dFbigTkq"
      },
      "outputs": [],
      "source": [
        "#knn - k-nearest neigthbours\n",
        "from sklearn.neighbors import KNeighborsClassifier\n",
        "model = KNeighborsClassifier(n_neighbors = 5, metric = 'manhattan', p = 1)"
      ]
    },
    {
      "cell_type": "code",
      "execution_count": null,
      "metadata": {
        "id": "crEw4X8yghBb"
      },
      "outputs": [],
      "source": [
        "model.fit(x_train,y_train)"
      ]
    },
    {
      "cell_type": "code",
      "execution_count": null,
      "metadata": {
        "id": "N9CjvjVrgkTy"
      },
      "outputs": [],
      "source": [
        "print(\"Accuracy : \",model.score(x_test,y_test)*100)"
      ]
    },
    {
      "cell_type": "code",
      "execution_count": null,
      "metadata": {
        "id": "lQ2pEQhSlkBK"
      },
      "outputs": [],
      "source": [
        "y_pred = model.predict(x_test)\n",
        "print(y_pred)\n",
        "print(y_test)"
      ]
    },
    {
      "cell_type": "markdown",
      "metadata": {
        "id": "MDRh8NzMl-s6"
      },
      "source": [
        "Vẽ cofusion metric:"
      ]
    },
    {
      "cell_type": "code",
      "execution_count": null,
      "metadata": {
        "id": "4WO6Mde_l1fy"
      },
      "outputs": [],
      "source": [
        "from sklearn.metrics import confusion_matrix\n",
        "cm = confusion_matrix(y_test, y_pred)\n",
        "print(cm)"
      ]
    },
    {
      "cell_type": "code",
      "execution_count": null,
      "metadata": {
        "id": "bhs1lvu2mEvb"
      },
      "outputs": [],
      "source": [
        "f, ax = plt.subplots(figsize=(8,5))\n",
        "sns.heatmap(confusion_matrix(y_test, y_pred), annot=True, fmt=\".0f\", ax=ax)\n",
        "plt.xlabel(\"y_pred\")\n",
        "plt.ylabel(\"y_true\")\n",
        "plt.show()"
      ]
    },
    {
      "cell_type": "code",
      "execution_count": null,
      "metadata": {
        "id": "AhUTnTZZm3JY"
      },
      "outputs": [],
      "source": [
        "from sklearn.metrics import classification_report\n",
        "print (classification_report(y_test, y_pred))"
      ]
    },
    {
      "cell_type": "code",
      "execution_count": null,
      "metadata": {
        "id": "S-8vXRxJnGOB"
      },
      "outputs": [],
      "source": [
        "#trực quan dl 2 tham số đầu vào\n",
        "from matplotlib.colors import ListedColormap\n",
        "X_set, y_set = x_train, y_train\n",
        "X1, X2, X3, X4 = np.meshgrid(np.arange(start = X_set.iloc[:, 0].min() - 1, stop = X_set.iloc[:, 0].max() + 1, step = 0.01),\n",
        "                     np.arange(start = X_set.iloc[:, 1].min() - 1, stop = X_set.iloc[:, 1].max() + 1, step = 0.01),\n",
        "                     np.arange(start = X_set.iloc[:, 2].min() - 1, stop = X_set.iloc[:, 2].max() + 1, step = 0.01),\n",
        "                     np.arange(start = X_set.iloc[:, 3].min() - 1, stop = X_set.iloc[:, 3].max() + 1, step = 0.01))\n",
        "plt.contourf(X1, X2,X3, X4, model.predict(np.array([X1.ravel(), X2.ravel(),X3.ravel(),X4.ravel()]).T).reshape(X1.shape),\n",
        "             alpha = 0.75, cmap = ListedColormap(('red', 'green', 'yellow')))\n",
        "plt.xlim(X1.min(), X1.max())\n",
        "plt.ylim(X2.min(), X2.max())\n",
        "for i, j in enumerate(np.unique(y_set)):\n",
        "    plt.scatter(X_set[y_set == j, 0], X_set[y_set == j, 1],\n",
        "                c = ListedColormap(('red', 'green', 'yellow'))(i), label = j)\n",
        "plt.title('K-NN (Training set)')\n",
        "plt.xlabel('SepalWidth')\n",
        "plt.ylabel('PetalWidth')\n",
        "plt.legend()\n",
        "plt.show()"
      ]
    },
    {
      "cell_type": "markdown",
      "metadata": {
        "id": "N8VBLH2xvIuH"
      },
      "source": [
        "# SVM:"
      ]
    }
  ],
  "metadata": {
    "colab": {
      "provenance": []
    },
    "kernelspec": {
      "display_name": "Python 3",
      "name": "python3"
    },
    "language_info": {
      "name": "python"
    },
    "widgets": {
      "application/vnd.jupyter.widget-state+json": {
        "0a09cf8135084f79899046733d378d55": {
          "model_module": "@jupyter-widgets/base",
          "model_module_version": "1.2.0",
          "model_name": "LayoutModel",
          "state": {
            "_model_module": "@jupyter-widgets/base",
            "_model_module_version": "1.2.0",
            "_model_name": "LayoutModel",
            "_view_count": null,
            "_view_module": "@jupyter-widgets/base",
            "_view_module_version": "1.2.0",
            "_view_name": "LayoutView",
            "align_content": null,
            "align_items": null,
            "align_self": null,
            "border": null,
            "bottom": null,
            "display": null,
            "flex": null,
            "flex_flow": null,
            "grid_area": null,
            "grid_auto_columns": null,
            "grid_auto_flow": null,
            "grid_auto_rows": null,
            "grid_column": null,
            "grid_gap": null,
            "grid_row": null,
            "grid_template_areas": null,
            "grid_template_columns": null,
            "grid_template_rows": null,
            "height": null,
            "justify_content": null,
            "justify_items": null,
            "left": null,
            "margin": null,
            "max_height": null,
            "max_width": null,
            "min_height": null,
            "min_width": null,
            "object_fit": null,
            "object_position": null,
            "order": null,
            "overflow": null,
            "overflow_x": null,
            "overflow_y": null,
            "padding": null,
            "right": null,
            "top": null,
            "visibility": null,
            "width": null
          }
        },
        "27ab5a6364904d06a144365f0794cf63": {
          "model_module": "@jupyter-widgets/controls",
          "model_module_version": "1.5.0",
          "model_name": "VBoxModel",
          "state": {
            "_dom_classes": [
              "widget-interact"
            ],
            "_model_module": "@jupyter-widgets/controls",
            "_model_module_version": "1.5.0",
            "_model_name": "VBoxModel",
            "_view_count": null,
            "_view_module": "@jupyter-widgets/controls",
            "_view_module_version": "1.5.0",
            "_view_name": "VBoxView",
            "box_style": "",
            "children": [
              "IPY_MODEL_61b0df7e73134e08b45a597c0b1a714c",
              "IPY_MODEL_7df6d57598c343de98403b422605ef4e"
            ],
            "layout": "IPY_MODEL_0a09cf8135084f79899046733d378d55"
          }
        },
        "61b0df7e73134e08b45a597c0b1a714c": {
          "model_module": "@jupyter-widgets/controls",
          "model_module_version": "1.5.0",
          "model_name": "DropdownModel",
          "state": {
            "_dom_classes": [],
            "_model_module": "@jupyter-widgets/controls",
            "_model_module_version": "1.5.0",
            "_model_name": "DropdownModel",
            "_options_labels": [
              "10",
              "200"
            ],
            "_view_count": null,
            "_view_module": "@jupyter-widgets/controls",
            "_view_module_version": "1.5.0",
            "_view_name": "DropdownView",
            "description": "N",
            "description_tooltip": null,
            "disabled": false,
            "index": 1,
            "layout": "IPY_MODEL_a43d0b5ccb7b4a4da2b8381e9d2ff7ef",
            "style": "IPY_MODEL_83aa3c61855c477ebd53d8ab908345f2"
          }
        },
        "7df6d57598c343de98403b422605ef4e": {
          "model_module": "@jupyter-widgets/output",
          "model_module_version": "1.0.0",
          "model_name": "OutputModel",
          "state": {
            "_dom_classes": [],
            "_model_module": "@jupyter-widgets/output",
            "_model_module_version": "1.0.0",
            "_model_name": "OutputModel",
            "_view_count": null,
            "_view_module": "@jupyter-widgets/output",
            "_view_module_version": "1.0.0",
            "_view_name": "OutputView",
            "layout": "IPY_MODEL_f223edb7508a4168912358b3fe16e477",
            "msg_id": "",
            "outputs": []
          }
        },
        "83aa3c61855c477ebd53d8ab908345f2": {
          "model_module": "@jupyter-widgets/controls",
          "model_module_version": "1.5.0",
          "model_name": "DescriptionStyleModel",
          "state": {
            "_model_module": "@jupyter-widgets/controls",
            "_model_module_version": "1.5.0",
            "_model_name": "DescriptionStyleModel",
            "_view_count": null,
            "_view_module": "@jupyter-widgets/base",
            "_view_module_version": "1.2.0",
            "_view_name": "StyleView",
            "description_width": ""
          }
        },
        "a43d0b5ccb7b4a4da2b8381e9d2ff7ef": {
          "model_module": "@jupyter-widgets/base",
          "model_module_version": "1.2.0",
          "model_name": "LayoutModel",
          "state": {
            "_model_module": "@jupyter-widgets/base",
            "_model_module_version": "1.2.0",
            "_model_name": "LayoutModel",
            "_view_count": null,
            "_view_module": "@jupyter-widgets/base",
            "_view_module_version": "1.2.0",
            "_view_name": "LayoutView",
            "align_content": null,
            "align_items": null,
            "align_self": null,
            "border": null,
            "bottom": null,
            "display": null,
            "flex": null,
            "flex_flow": null,
            "grid_area": null,
            "grid_auto_columns": null,
            "grid_auto_flow": null,
            "grid_auto_rows": null,
            "grid_column": null,
            "grid_gap": null,
            "grid_row": null,
            "grid_template_areas": null,
            "grid_template_columns": null,
            "grid_template_rows": null,
            "height": null,
            "justify_content": null,
            "justify_items": null,
            "left": null,
            "margin": null,
            "max_height": null,
            "max_width": null,
            "min_height": null,
            "min_width": null,
            "object_fit": null,
            "object_position": null,
            "order": null,
            "overflow": null,
            "overflow_x": null,
            "overflow_y": null,
            "padding": null,
            "right": null,
            "top": null,
            "visibility": null,
            "width": null
          }
        },
        "f223edb7508a4168912358b3fe16e477": {
          "model_module": "@jupyter-widgets/base",
          "model_module_version": "1.2.0",
          "model_name": "LayoutModel",
          "state": {
            "_model_module": "@jupyter-widgets/base",
            "_model_module_version": "1.2.0",
            "_model_name": "LayoutModel",
            "_view_count": null,
            "_view_module": "@jupyter-widgets/base",
            "_view_module_version": "1.2.0",
            "_view_name": "LayoutView",
            "align_content": null,
            "align_items": null,
            "align_self": null,
            "border": null,
            "bottom": null,
            "display": null,
            "flex": null,
            "flex_flow": null,
            "grid_area": null,
            "grid_auto_columns": null,
            "grid_auto_flow": null,
            "grid_auto_rows": null,
            "grid_column": null,
            "grid_gap": null,
            "grid_row": null,
            "grid_template_areas": null,
            "grid_template_columns": null,
            "grid_template_rows": null,
            "height": null,
            "justify_content": null,
            "justify_items": null,
            "left": null,
            "margin": null,
            "max_height": null,
            "max_width": null,
            "min_height": null,
            "min_width": null,
            "object_fit": null,
            "object_position": null,
            "order": null,
            "overflow": null,
            "overflow_x": null,
            "overflow_y": null,
            "padding": null,
            "right": null,
            "top": null,
            "visibility": null,
            "width": null
          }
        }
      }
    }
  },
  "nbformat": 4,
  "nbformat_minor": 0
}
