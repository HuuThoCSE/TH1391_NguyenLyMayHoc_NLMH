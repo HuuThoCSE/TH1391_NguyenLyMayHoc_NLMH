{
  "nbformat": 4,
  "nbformat_minor": 0,
  "metadata": {
    "colab": {
      "provenance": [],
      "gpuType": "T4"
    },
    "kernelspec": {
      "name": "python3",
      "display_name": "Python 3"
    },
    "language_info": {
      "name": "python"
    },
    "accelerator": "GPU"
  },
  "cells": [
    {
      "cell_type": "markdown",
      "source": [
        "**xml to csv**"
      ],
      "metadata": {
        "id": "YIsAbA7T_Led"
      }
    },
    {
      "cell_type": "code",
      "execution_count": null,
      "metadata": {
        "id": "n_vgkI0R_F6v",
        "colab": {
          "base_uri": "https://localhost:8080/"
        },
        "outputId": "f6d76462-12bd-43bd-aa8c-589460325a71"
      },
      "outputs": [
        {
          "output_type": "stream",
          "name": "stdout",
          "text": [
            "Looking in indexes: https://pypi.org/simple, https://us-python.pkg.dev/colab-wheels/public/simple/\n",
            "Requirement already satisfied: pandas in /usr/local/lib/python3.10/dist-packages (1.5.3)\n",
            "Requirement already satisfied: python-dateutil>=2.8.1 in /usr/local/lib/python3.10/dist-packages (from pandas) (2.8.2)\n",
            "Requirement already satisfied: pytz>=2020.1 in /usr/local/lib/python3.10/dist-packages (from pandas) (2022.7.1)\n",
            "Requirement already satisfied: numpy>=1.21.0 in /usr/local/lib/python3.10/dist-packages (from pandas) (1.22.4)\n",
            "Requirement already satisfied: six>=1.5 in /usr/local/lib/python3.10/dist-packages (from python-dateutil>=2.8.1->pandas) (1.16.0)\n"
          ]
        }
      ],
      "source": [
        "!pip install pandas"
      ]
    },
    {
      "cell_type": "code",
      "source": [
        "import os\n",
        "import glob\n",
        "import pandas as pd\n",
        "import xml.etree.ElementTree as ET"
      ],
      "metadata": {
        "id": "U9SxoyB5_PdO"
      },
      "execution_count": null,
      "outputs": []
    },
    {
      "cell_type": "code",
      "source": [
        "def xml_to_csv(path):\n",
        "    xml_list = []\n",
        "    for xml_file in glob.glob(path + '/*.xml'):\n",
        "        tree = ET.parse(xml_file)\n",
        "        root = tree.getroot()\n",
        "        for member in root.findall('object'):\n",
        "            bbx = member.find('bndbox')\n",
        "            xmin = int(bbx.find('xmin').text)\n",
        "            ymin = int(bbx.find('ymin').text)\n",
        "            xmax = int(bbx.find('xmax').text)\n",
        "            ymax = int(bbx.find('ymax').text)\n",
        "            label = member.find('name').text\n",
        "\n",
        "            value = (root.find('filename').text,\n",
        "                     int(root.find('size')[0].text),\n",
        "                     int(root.find('size')[1].text),\n",
        "                     label,\n",
        "                     xmin,\n",
        "                     ymin,\n",
        "                     xmax,\n",
        "                     ymax\n",
        "                     )\n",
        "            xml_list.append(value)\n",
        "    column_name = ['filename', 'width', 'height',\n",
        "                   'class', 'xmin', 'ymin', 'xmax', 'ymax']\n",
        "    xml_df = pd.DataFrame(xml_list, columns=column_name)\n",
        "    return xml_df"
      ],
      "metadata": {
        "id": "ucP8j9wg_QeX"
      },
      "execution_count": null,
      "outputs": []
    },
    {
      "cell_type": "code",
      "source": [
        "def main():\n",
        "    datasets = ['path to dataset']\n",
        "    for ds in datasets:\n",
        "        xml_df = xml_to_csv(ds)\n",
        "        xml_df.to_csv('labels_{}.csv'.format(ds), index=None)\n",
        "        print('Successfully converted xml to csv.')\n",
        "\n",
        "main()"
      ],
      "metadata": {
        "id": "stEh7YCi_RX6",
        "colab": {
          "base_uri": "https://localhost:8080/"
        },
        "outputId": "0a7c4fbe-8774-427d-e82b-bade0cabc8ad"
      },
      "execution_count": null,
      "outputs": [
        {
          "output_type": "stream",
          "name": "stdout",
          "text": [
            "Successfully converted xml to csv.\n"
          ]
        }
      ]
    },
    {
      "cell_type": "markdown",
      "source": [
        "**yolo to csv**"
      ],
      "metadata": {
        "id": "1dq0lgIm_Sgi"
      }
    },
    {
      "cell_type": "code",
      "source": [
        "import os\n",
        "import pandas as pd\n",
        "def convert_folder_yolo_to_csv(folder_path, csv_file_path):\n",
        "    data = []\n",
        "    # Iterate over all files in the folder\n",
        "    for filename in os.listdir(folder_path):\n",
        "        if filename.endswith('.txt'):\n",
        "            file_path = os.path.join(folder_path, filename)\n",
        "\n",
        "            with open(file_path, 'r') as file:\n",
        "                lines = file.readlines()\n",
        "\n",
        "                for line in lines:\n",
        "                    line = line.strip().split()\n",
        "                    # Extract the class label and bounding box coordinates\n",
        "                    class_label = line[0]\n",
        "                    x_center = float(line[1])\n",
        "                    y_center = float(line[2])\n",
        "                    width = float(line[3])\n",
        "                    height = float(line[4])\n",
        "\n",
        "                    # Convert bounding box coordinates from YOLO format to CSV format\n",
        "                    x_min = (x_center - width / 2)\n",
        "                    y_min = (y_center - height / 2)\n",
        "                    x_max = (x_center + width / 2)\n",
        "                    y_max = (y_center + height / 2)\n",
        "\n",
        "                    # Create a dictionary with 'File Name', 'Class Label', 'X Min', 'Y Min', 'X Max', 'Y Max' as keys\n",
        "                    row = {\n",
        "                        'File Name': filename,\n",
        "                        'Class Label': class_label,\n",
        "                        'X Min': x_min,\n",
        "                        'Y Min': y_min,\n",
        "                        'X Max': x_max,\n",
        "                        'Y Max': y_max\n",
        "                    }\n",
        "\n",
        "                    # Append the dictionary to the data list\n",
        "                    data.append(row)\n",
        "\n",
        "    # Create a DataFrame from the data list\n",
        "    df = pd.DataFrame(data)\n",
        "\n",
        "    # Save the DataFrame to a CSV file\n",
        "    df.to_csv(csv_file_path, index=False)\n",
        "\n",
        "# Example usage\n",
        "folder_path = '/path/to/folder'\n",
        "csv_file_path = '/path/to/output.csv'\n",
        "convert_folder_yolo_to_csv(folder_path, csv_file_path)"
      ],
      "metadata": {
        "id": "UVvUWw-a_T5g",
        "colab": {
          "base_uri": "https://localhost:8080/",
          "height": 321
        },
        "outputId": "042a13fa-9247-49b3-da1d-bd21aab5776f"
      },
      "execution_count": null,
      "outputs": [
        {
          "output_type": "error",
          "ename": "FileNotFoundError",
          "evalue": "ignored",
          "traceback": [
            "\u001b[0;31m---------------------------------------------------------------------------\u001b[0m",
            "\u001b[0;31mFileNotFoundError\u001b[0m                         Traceback (most recent call last)",
            "\u001b[0;32m<ipython-input-5-f7f3b59ca9a4>\u001b[0m in \u001b[0;36m<cell line: 50>\u001b[0;34m()\u001b[0m\n\u001b[1;32m     48\u001b[0m \u001b[0mfolder_path\u001b[0m \u001b[0;34m=\u001b[0m \u001b[0;34m'/path/to/folder'\u001b[0m\u001b[0;34m\u001b[0m\u001b[0;34m\u001b[0m\u001b[0m\n\u001b[1;32m     49\u001b[0m \u001b[0mcsv_file_path\u001b[0m \u001b[0;34m=\u001b[0m \u001b[0;34m'/path/to/output.csv'\u001b[0m\u001b[0;34m\u001b[0m\u001b[0;34m\u001b[0m\u001b[0m\n\u001b[0;32m---> 50\u001b[0;31m \u001b[0mconvert_folder_yolo_to_csv\u001b[0m\u001b[0;34m(\u001b[0m\u001b[0mfolder_path\u001b[0m\u001b[0;34m,\u001b[0m \u001b[0mcsv_file_path\u001b[0m\u001b[0;34m)\u001b[0m\u001b[0;34m\u001b[0m\u001b[0;34m\u001b[0m\u001b[0m\n\u001b[0m",
            "\u001b[0;32m<ipython-input-5-f7f3b59ca9a4>\u001b[0m in \u001b[0;36mconvert_folder_yolo_to_csv\u001b[0;34m(folder_path, csv_file_path)\u001b[0m\n\u001b[1;32m      4\u001b[0m     \u001b[0mdata\u001b[0m \u001b[0;34m=\u001b[0m \u001b[0;34m[\u001b[0m\u001b[0;34m]\u001b[0m\u001b[0;34m\u001b[0m\u001b[0;34m\u001b[0m\u001b[0m\n\u001b[1;32m      5\u001b[0m     \u001b[0;31m# Iterate over all files in the folder\u001b[0m\u001b[0;34m\u001b[0m\u001b[0;34m\u001b[0m\u001b[0m\n\u001b[0;32m----> 6\u001b[0;31m     \u001b[0;32mfor\u001b[0m \u001b[0mfilename\u001b[0m \u001b[0;32min\u001b[0m \u001b[0mos\u001b[0m\u001b[0;34m.\u001b[0m\u001b[0mlistdir\u001b[0m\u001b[0;34m(\u001b[0m\u001b[0mfolder_path\u001b[0m\u001b[0;34m)\u001b[0m\u001b[0;34m:\u001b[0m\u001b[0;34m\u001b[0m\u001b[0;34m\u001b[0m\u001b[0m\n\u001b[0m\u001b[1;32m      7\u001b[0m         \u001b[0;32mif\u001b[0m \u001b[0mfilename\u001b[0m\u001b[0;34m.\u001b[0m\u001b[0mendswith\u001b[0m\u001b[0;34m(\u001b[0m\u001b[0;34m'.txt'\u001b[0m\u001b[0;34m)\u001b[0m\u001b[0;34m:\u001b[0m\u001b[0;34m\u001b[0m\u001b[0;34m\u001b[0m\u001b[0m\n\u001b[1;32m      8\u001b[0m             \u001b[0mfile_path\u001b[0m \u001b[0;34m=\u001b[0m \u001b[0mos\u001b[0m\u001b[0;34m.\u001b[0m\u001b[0mpath\u001b[0m\u001b[0;34m.\u001b[0m\u001b[0mjoin\u001b[0m\u001b[0;34m(\u001b[0m\u001b[0mfolder_path\u001b[0m\u001b[0;34m,\u001b[0m \u001b[0mfilename\u001b[0m\u001b[0;34m)\u001b[0m\u001b[0;34m\u001b[0m\u001b[0;34m\u001b[0m\u001b[0m\n",
            "\u001b[0;31mFileNotFoundError\u001b[0m: [Errno 2] No such file or directory: '/path/to/folder'"
          ]
        }
      ]
    },
    {
      "cell_type": "markdown",
      "source": [
        "\n",
        "**hiển thị %**\n",
        "\n"
      ],
      "metadata": {
        "id": "xu3bDrUN_VWD"
      }
    },
    {
      "cell_type": "code",
      "source": [
        "from google.colab.patches import cv2_imshow\n",
        "image = load_img(imagePath, target_size=(224, 224))\n",
        "image = img_to_array(image) / 255.0\n",
        "image = np.expand_dims(image, axis=0)\n",
        "# make bounding box predictions on the input image\n",
        "(boxPreds, labelPreds) = model.predict(image)\n",
        "(startX, startY, endX, endY) = boxPreds[0]\n",
        "# load the input image (in OpenCV format), resize it such that it\n",
        "# fits on our screen, and grab its dimensions\n",
        "image = cv2.imread(imagePath)\n",
        "image = imutils.resize(image, width=600)\n",
        "(h, w) = image.shape[:2]\n",
        "# scale the predicted bounding box coordinates based on the image\n",
        "# dimensions\n",
        "startX = int(startX * w)\n",
        "startY = int(startY * h)\n",
        "endX = int(endX * w)\n",
        "endY = int(endY * h)\n",
        "# Draw the predicted bounding box\n",
        "i = np.argmax(labelPreds, axis=1)\n",
        "label = lb.classes_[i][0]\n",
        "score = np.max(labelPreds, axis=1)[0]\n",
        "text = '{}: {:.2f}%'.format(label, score * 100)\n",
        "cv2.putText(image, text , (startX, startY - 10), cv2.FONT_HERSHEY_SIMPLEX,0.65, (0, 255, 0), 2)\n",
        "cv2.rectangle(image, (startX, startY), (endX, endY),(0, 255, 0), 2)\n",
        "# Hiển thị hình ảnh\n",
        "cv2_imshow(image)"
      ],
      "metadata": {
        "id": "lvuxy8vR_WRC"
      },
      "execution_count": null,
      "outputs": []
    },
    {
      "cell_type": "markdown",
      "source": [
        "**test từng ảnh**\n"
      ],
      "metadata": {
        "id": "a3qytZjE_aHO"
      }
    },
    {
      "cell_type": "code",
      "source": [
        "from google.colab.patches import cv2_imshow\n",
        "\n",
        "Path = '/content/drive/MyDrive/21022027/dataset/images/apple/apple_1.jpg'\n",
        "image = load_img(Path, target_size=(224, 224))\n",
        "image = img_to_array(image) / 255.0\n",
        "image = np.expand_dims(image, axis=0)\n",
        "# make bounding box predictions on the input image\n",
        "(boxPreds, labelPreds) = model.predict(image)\n",
        "(startX, startY, endX, endY) = boxPreds[0]\n",
        "# load the input image (in OpenCV format), resize it such that it\n",
        "# fits on our screen, and grab its dimensions\n",
        "image = cv2.imread(Path)\n",
        "image = imutils.resize(image, width=600)\n",
        "(h, w) = image.shape[:2]\n",
        "# scale the predicted bounding box coordinates based on the image\n",
        "# dimensions\n",
        "startX = int(startX * w)\n",
        "startY = int(startY * h)\n",
        "endX = int(endX * w)\n",
        "endY = int(endY * h)\n",
        "# Draw the predicted bounding box\n",
        "i = np.argmax(labelPreds, axis=1)\n",
        "label = lb.classes_[i][0]\n",
        "score = np.max(labelPreds, axis=1)[0]\n",
        "text = '{}: {:.2f}%'.format(label, score * 100)\n",
        "cv2.putText(image, text , (startX, startY - 10), cv2.FONT_HERSHEY_SIMPLEX,0.65, (0, 255, 0), 2)\n",
        "cv2.rectangle(image, (startX, startY), (endX, endY),(0, 255, 0), 2)\n",
        "# Hiển thị hình ảnh\n",
        "cv2_imshow(image)\n"
      ],
      "metadata": {
        "id": "EVBEMlw8_bFM"
      },
      "execution_count": null,
      "outputs": []
    },
    {
      "cell_type": "markdown",
      "source": [
        "**Z-Score from Scratch in Python**"
      ],
      "metadata": {
        "id": "dKxx6wzT_cXG"
      }
    },
    {
      "cell_type": "code",
      "source": [
        "import numpy as np\n",
        "import scipy.stats as stats"
      ],
      "metadata": {
        "id": "YqcEf6oK_dQh"
      },
      "execution_count": null,
      "outputs": []
    },
    {
      "cell_type": "code",
      "source": [
        "data = np.array([6, 7, 7, 12, 13, 13, 15, 16, 19, 22])"
      ],
      "metadata": {
        "id": "ZrF1olll_eTI"
      },
      "execution_count": null,
      "outputs": []
    },
    {
      "cell_type": "code",
      "source": [
        "zscores = stats.zscore(data)\n",
        "print(zscores)"
      ],
      "metadata": {
        "id": "s897NDuC_fCk"
      },
      "execution_count": null,
      "outputs": []
    },
    {
      "cell_type": "code",
      "source": [
        "[-1.394, -1.195, -1.195, -0.199, 0, 0, 0.398, 0.598, 1.195, 1.793]"
      ],
      "metadata": {
        "id": "mXufFbjg_fyB"
      },
      "execution_count": null,
      "outputs": []
    },
    {
      "cell_type": "markdown",
      "source": [
        "**Chuẩn hóa Z-score với dataframe**"
      ],
      "metadata": {
        "id": "UpDAOARl_g0w"
      }
    },
    {
      "cell_type": "code",
      "source": [
        "# Loading a Sample Pandas Dataframe\n",
        "import pandas as pd\n",
        "\n",
        "df = pd.DataFrame.from_dict({\n",
        "    'Name': ['Nik', 'Kate', 'Joe', 'Mitch', 'Alana'],\n",
        "    'Age': [32, 30, 67, 34, 20],\n",
        "    'Income': [80000, 90000, 45000, 23000, 12000],\n",
        "    'Education' : [5, 7, 3, 4, 4]\n",
        "})\n",
        "\n",
        "print(df.head())"
      ],
      "metadata": {
        "id": "WGrcCUr3_ho6"
      },
      "execution_count": null,
      "outputs": []
    },
    {
      "cell_type": "code",
      "source": [
        "df['Income zscore'] = stats.zscore(df['Income'])\n",
        "print(df.head())"
      ],
      "metadata": {
        "id": "n2bEsmAz_ivu"
      },
      "execution_count": null,
      "outputs": []
    },
    {
      "cell_type": "markdown",
      "source": [
        "cay\n"
      ],
      "metadata": {
        "id": "HY_EaIMfbIsU"
      }
    },
    {
      "cell_type": "code",
      "source": [
        "from matplotlib import pyplot as plt\n",
        "from sklearn import datasets\n",
        "from sklearn.tree import DecisionTreeClassifier\n",
        "from sklearn import tree\n",
        "import pandas as pd"
      ],
      "metadata": {
        "id": "P4prCOGf_8FX"
      },
      "execution_count": null,
      "outputs": []
    },
    {
      "cell_type": "code",
      "source": [
        "dfdata = pd.read_csv('/content/drive/MyDrive/Dataset-football-train.txt',sep='\\t')"
      ],
      "metadata": {
        "id": "wpAeg94h_8yE"
      },
      "execution_count": null,
      "outputs": []
    },
    {
      "cell_type": "code",
      "source": [
        "dfdata=dfdata[['Is_Home_or_Away','Is_Opponent_in_AP25_Preseason','Media','Label']]"
      ],
      "metadata": {
        "id": "iuftq1Ga_9j-"
      },
      "execution_count": null,
      "outputs": []
    },
    {
      "cell_type": "code",
      "source": [
        "from sklearn.preprocessing import LabelEncoder\n",
        "le=LabelEncoder()\n",
        "dfdata['Is_Home_or_Away']=le.fit_transform(dfdata['Is_Home_or_Away'])\n",
        "dfdata['Is_Opponent_in_AP25_Preseason']=le.fit_transform(dfdata['Is_Opponent_in_AP25_Preseason'])\n",
        "dfdata['Media']=le.fit_transform(dfdata['Media'])"
      ],
      "metadata": {
        "id": "tRW7bowe_-eO"
      },
      "execution_count": null,
      "outputs": []
    },
    {
      "cell_type": "code",
      "source": [
        "dt = DecisionTreeClassifier()\n",
        "x=dfdata[['Is_Home_or_Away','Is_Opponent_in_AP25_Preseason','Media']]\n",
        "y=dfdata[['Label']]\n",
        "dt.fit(x, y)"
      ],
      "metadata": {
        "id": "_QSafPG3bVxt"
      },
      "execution_count": null,
      "outputs": []
    },
    {
      "cell_type": "code",
      "source": [
        "import graphviz\n",
        "dot_data = tree.export_graphviz(dt,feature_names=['Is_Home_or_Away','Is_Opponent_in_AP25_Preseason','Media'],\n",
        "                                class_names=['Win', 'Lose'],\n",
        "                                rounded=True,filled=True)\n",
        "graph = graphviz.Source(dot_data, format=\"png\")\n",
        "graph"
      ],
      "metadata": {
        "id": "ARQXt07_bYDw"
      },
      "execution_count": null,
      "outputs": []
    },
    {
      "cell_type": "code",
      "source": [
        "dfdata = pd.read_csv('/content/drive/MyDrive/fb_test.csv')"
      ],
      "metadata": {
        "id": "icfiHCvobZW8"
      },
      "execution_count": null,
      "outputs": []
    },
    {
      "cell_type": "code",
      "source": [
        "dfdata= dfdata[['Is_Home_or_Away','Is_Opponent_in_AP25_Preseason','Media']]\n",
        "print(dfdata)"
      ],
      "metadata": {
        "id": "EpqJ74hrbaeB"
      },
      "execution_count": null,
      "outputs": []
    },
    {
      "cell_type": "code",
      "source": [
        "dfdatat=dfdata[['Is_Home_or_Away','Is_Opponent_in_AP25_Preseason','Media']]\n",
        "dfdatat['Is_Home_or_Away']=le.fit_transform(dfdatat['Is_Home_or_Away'])\n",
        "dfdatat['Is_Opponent_in_AP25_Preseason']=le.fit_transform(dfdatat['Is_Opponent_in_AP25_Preseason'])\n",
        "dfdatat['Media']=le.fit_transform(dfdatat['Media'])\n",
        "print(dfdata)\n",
        "print(dfdatat)\n"
      ],
      "metadata": {
        "id": "jbsyiRFobbVH"
      },
      "execution_count": null,
      "outputs": []
    },
    {
      "cell_type": "code",
      "source": [
        "pred=dt.predict(dfdatat)\n",
        "for i in range (len(dfdata)):\n",
        "  array_1d = dfdata.iloc[i, :].values.flatten()\n",
        "  print(\"Pred: \",array_1d, \" = \", pred[i])\n"
      ],
      "metadata": {
        "id": "zSJA8WsEbcj8"
      },
      "execution_count": null,
      "outputs": []
    },
    {
      "cell_type": "markdown",
      "source": [
        "**KNN**"
      ],
      "metadata": {
        "id": "ZQlAI0kWbjYj"
      }
    },
    {
      "cell_type": "code",
      "source": [
        "import pandas as pd\n",
        "import numpy as np\n",
        "import os\n",
        "import matplotlib.pyplot as plt\n",
        "import seaborn as sns"
      ],
      "metadata": {
        "id": "J_niph-Vbm0s"
      },
      "execution_count": null,
      "outputs": []
    },
    {
      "cell_type": "code",
      "source": [
        "df=pd.read_csv('/content/drive/MyDrive/Iris.csv')\n",
        "df.head()"
      ],
      "metadata": {
        "id": "amSxQFcZbrc5"
      },
      "execution_count": null,
      "outputs": []
    },
    {
      "cell_type": "code",
      "source": [
        "df=df.drop(columns=['Id'])"
      ],
      "metadata": {
        "id": "yDQ_j1_Wbsu3"
      },
      "execution_count": null,
      "outputs": []
    },
    {
      "cell_type": "code",
      "source": [
        "df.head()"
      ],
      "metadata": {
        "id": "ggSSUVJibtuZ"
      },
      "execution_count": null,
      "outputs": []
    },
    {
      "cell_type": "code",
      "source": [
        "#TO DISPLAY STATS ABOUT DATA\n",
        "df.info()"
      ],
      "metadata": {
        "id": "ymYSPLddbuXq"
      },
      "execution_count": null,
      "outputs": []
    },
    {
      "cell_type": "code",
      "source": [
        "#CHECKING NULL VALUES\n",
        "df.isnull().sum()"
      ],
      "metadata": {
        "id": "_iqg0-fHbvFE"
      },
      "execution_count": null,
      "outputs": []
    },
    {
      "cell_type": "code",
      "source": [
        "colors=['red','orange','blue']\n",
        "species=['Iris-setosa','Iris-virginica' ,'Iris-versicolor']"
      ],
      "metadata": {
        "id": "xYRjG_nCbwcb"
      },
      "execution_count": null,
      "outputs": []
    },
    {
      "cell_type": "code",
      "source": [
        "for i in range(3):\n",
        "  x=df[df['Species']==species[i]]\n",
        "  plt.scatter(x['SepalLengthCm'],x['SepalWidthCm'],c=colors[i],label=species[i])\n",
        "  plt.xlabel(\"SepalLength\")\n",
        "  plt.ylabel('SepalWidth')\n",
        "  plt.legend()"
      ],
      "metadata": {
        "id": "D-xSs9k7bxnk"
      },
      "execution_count": null,
      "outputs": []
    },
    {
      "cell_type": "code",
      "source": [
        "for i in range(3):\n",
        "  x=df[df['Species']==species[i]]\n",
        "  plt.scatter(x['PetalLengthCm'],x['PetalWidthCm'],c=colors[i],label=species[i])\n",
        "  plt.xlabel(\"PetalLength\")\n",
        "  plt.ylabel('PetalWidth')\n",
        "  plt.legend()"
      ],
      "metadata": {
        "id": "I__i1u_gbyo1"
      },
      "execution_count": null,
      "outputs": []
    },
    {
      "cell_type": "code",
      "source": [
        "for i in range(3):\n",
        "  x=df[df['Species']==species[i]]\n",
        "  plt.scatter(x['SepalLengthCm'],x['PetalLengthCm'],c=colors[i],label=species[i])\n",
        "  plt.xlabel(\"SepalLength\")\n",
        "  plt.ylabel('PetalLength')\n",
        "  plt.legend()"
      ],
      "metadata": {
        "id": "dqfxQEcxbzq9"
      },
      "execution_count": null,
      "outputs": []
    },
    {
      "cell_type": "code",
      "source": [
        "for i in range(3):\n",
        "  x=df[df['Species']==species[i]]\n",
        "  plt.scatter(x['SepalWidthCm'],x['PetalWidthCm'],c=colors[i],label=species[i])\n",
        "  plt.xlabel(\"SepalWidth\")\n",
        "  plt.ylabel('PetalWidth')\n",
        "  plt.legend()"
      ],
      "metadata": {
        "id": "7jEMSOnBb0il"
      },
      "execution_count": null,
      "outputs": []
    },
    {
      "cell_type": "code",
      "source": [
        "from sklearn.preprocessing import LabelEncoder\n",
        "le=LabelEncoder()\n",
        "df['Species']=le.fit_transform(df['Species'])\n",
        "df.head()"
      ],
      "metadata": {
        "id": "l2ZBNvkWb9DW"
      },
      "execution_count": null,
      "outputs": []
    },
    {
      "cell_type": "code",
      "source": [
        "from sklearn.model_selection import train_test_split #train -70; test -30\n",
        "X=df.drop(columns=['Species'])\n",
        "Y=df['Species']\n",
        "x_train,x_test,y_train,y_test=train_test_split(X,Y,test_size=0.30)"
      ],
      "metadata": {
        "id": "koznp8Bmb_E6"
      },
      "execution_count": null,
      "outputs": []
    },
    {
      "cell_type": "code",
      "source": [
        "#knn - k-nearest neigthbours\n",
        "from sklearn.neighbors import KNeighborsClassifier\n",
        "model = KNeighborsClassifier(n_neighbors = 5, metric = 'manhattan', p = 1)"
      ],
      "metadata": {
        "id": "57VDhhshcAEp"
      },
      "execution_count": null,
      "outputs": []
    },
    {
      "cell_type": "code",
      "source": [
        "model.fit(x_train,y_train)"
      ],
      "metadata": {
        "id": "8owYBSo9cA_K"
      },
      "execution_count": null,
      "outputs": []
    },
    {
      "cell_type": "code",
      "source": [
        "print(\"Accuracy : \",model.score(x_test,y_test)*100)"
      ],
      "metadata": {
        "id": "oiafKLBKcC3Y"
      },
      "execution_count": null,
      "outputs": []
    },
    {
      "cell_type": "code",
      "source": [
        "y_pred = model.predict(x_test)\n",
        "print(y_pred)\n",
        "print(y_test)"
      ],
      "metadata": {
        "id": "AsHd9tGtcIJp"
      },
      "execution_count": null,
      "outputs": []
    },
    {
      "cell_type": "markdown",
      "source": [
        "**Vẽ cofusion metric:**"
      ],
      "metadata": {
        "id": "RATwAJelcLjt"
      }
    },
    {
      "cell_type": "code",
      "source": [
        "from sklearn.metrics import confusion_matrix\n",
        "cm = confusion_matrix(y_test, y_pred)\n",
        "print(cm)"
      ],
      "metadata": {
        "id": "4t2lbmsbcMqG"
      },
      "execution_count": null,
      "outputs": []
    },
    {
      "cell_type": "code",
      "source": [
        "f, ax = plt.subplots(figsize=(8,5))\n",
        "sns.heatmap(confusion_matrix(y_test, y_pred), annot=True, fmt=\".0f\", ax=ax)\n",
        "plt.xlabel(\"y_pred\")\n",
        "plt.ylabel(\"y_true\")\n",
        "plt.show()"
      ],
      "metadata": {
        "id": "S8vPOvqicOFD"
      },
      "execution_count": null,
      "outputs": []
    },
    {
      "cell_type": "code",
      "source": [
        "from sklearn.metrics import classification_report\n",
        "print (classification_report(y_test, y_pred))"
      ],
      "metadata": {
        "id": "PuLhlVaRcO9d"
      },
      "execution_count": null,
      "outputs": []
    },
    {
      "cell_type": "code",
      "source": [
        "#trực quan dl 2 tham số đầu vào\n",
        "from matplotlib.colors import ListedColormap\n",
        "X_set, y_set = x_train, y_train\n",
        "X1, X2, X3, X4 = np.meshgrid(np.arange(start = X_set.iloc[:, 0].min() - 1, stop = X_set.iloc[:, 0].max() + 1, step = 0.01),\n",
        "                     np.arange(start = X_set.iloc[:, 1].min() - 1, stop = X_set.iloc[:, 1].max() + 1, step = 0.01),\n",
        "                     np.arange(start = X_set.iloc[:, 2].min() - 1, stop = X_set.iloc[:, 2].max() + 1, step = 0.01),\n",
        "                     np.arange(start = X_set.iloc[:, 3].min() - 1, stop = X_set.iloc[:, 3].max() + 1, step = 0.01))\n",
        "plt.contourf(X1, X2,X3, X4, model.predict(np.array([X1.ravel(), X2.ravel(),X3.ravel(),X4.ravel()]).T).reshape(X1.shape),\n",
        "             alpha = 0.75, cmap = ListedColormap(('red', 'green', 'yellow')))\n",
        "plt.xlim(X1.min(), X1.max())\n",
        "plt.ylim(X2.min(), X2.max())\n",
        "for i, j in enumerate(np.unique(y_set)):\n",
        "    plt.scatter(X_set[y_set == j, 0], X_set[y_set == j, 1],\n",
        "                c = ListedColormap(('red', 'green', 'yellow'))(i), label = j)\n",
        "plt.title('K-NN (Training set)')\n",
        "plt.xlabel('SepalWidth')\n",
        "plt.ylabel('PetalWidth')\n",
        "plt.legend()\n",
        "plt.show()"
      ],
      "metadata": {
        "id": "S-8vXRxJnGOB"
      },
      "execution_count": null,
      "outputs": []
    },
    {
      "cell_type": "markdown",
      "source": [
        "**# SVM:**"
      ],
      "metadata": {
        "id": "WBHczxwZcSnm"
      }
    },
    {
      "cell_type": "code",
      "source": [
        "%matplotlib inline\n",
        "import numpy as np\n",
        "import matplotlib.pyplot as plt\n",
        "from scipy import stats\n",
        "# use seaborn plotting defaults\n",
        "import seaborn as sns; sns.set()"
      ],
      "metadata": {
        "id": "7VnOmOEBvJ8u"
      },
      "execution_count": null,
      "outputs": []
    },
    {
      "cell_type": "code",
      "source": [
        "from sklearn.datasets import make_blobs\n",
        "X, y = make_blobs(n_samples=50, centers=2, random_state=0, cluster_std=0.60)\n",
        "plt.scatter(X[:, 0], X[:, 1], c=y, s=50, cmap='autumn');"
      ],
      "metadata": {
        "id": "agVQpRRvcWkQ"
      },
      "execution_count": null,
      "outputs": []
    },
    {
      "cell_type": "code",
      "source": [
        "xfit = np.linspace(-1, 3.5)\n",
        "plt.scatter(X[:, 0], X[:, 1], c=y, s=50, cmap='autumn')\n",
        "plt.plot([0.6], [2.1], 'x', color='red', markeredgewidth=2, markersize=10)\n",
        "for m, b in [(1, 0.65), (0.5, 1.6), (-0.2, 2.9)]:\n",
        "    plt.plot(xfit, m * xfit + b, '-k')\n",
        "plt.xlim(-1, 3.5);"
      ],
      "metadata": {
        "id": "5R1fYw92cZoU"
      },
      "execution_count": null,
      "outputs": []
    },
    {
      "cell_type": "code",
      "source": [
        "xfit = np.linspace(-1, 3.5)\n",
        "plt.scatter(X[:, 0], X[:, 1], c=y, s=50, cmap='autumn')\n",
        "\n",
        "for m, b, d in [(1, 0.65, 0.33), (0.5, 1.6, 0.55), (-0.2, 2.9, 0.2)]:\n",
        "    yfit = m * xfit + b\n",
        "    plt.plot(xfit, yfit, '-k')\n",
        "    plt.fill_between(xfit, yfit - d, yfit + d, edgecolor='none', color='#AAAAAA', alpha=0.4)\n",
        "\n",
        "plt.xlim(-1, 3.5);"
      ],
      "metadata": {
        "id": "CXGIriTJcZh7"
      },
      "execution_count": null,
      "outputs": []
    },
    {
      "cell_type": "code",
      "source": [
        "from sklearn.svm import SVC # \"Support vector classifier\"\n",
        "model = SVC(kernel='linear', C=1E10)\n",
        "model.fit(X, y)"
      ],
      "metadata": {
        "id": "apntqC7HccZR"
      },
      "execution_count": null,
      "outputs": []
    },
    {
      "cell_type": "code",
      "source": [
        "def plot_svc_decision_function(model, ax=None, plot_support=True):\n",
        "    \"\"\"Plot the decision function for a 2D SVC\"\"\"\n",
        "    if ax is None:\n",
        "        ax = plt.gca()\n",
        "    xlim = ax.get_xlim()\n",
        "    ylim = ax.get_ylim()\n",
        "\n",
        "    # create grid to evaluate model\n",
        "    x = np.linspace(xlim[0], xlim[1], 30)\n",
        "    y = np.linspace(ylim[0], ylim[1], 30)\n",
        "    Y, X = np.meshgrid(y, x)\n",
        "    xy = np.vstack([X.ravel(), Y.ravel()]).T\n",
        "    P = model.decision_function(xy).reshape(X.shape)\n",
        "\n",
        "    # plot decision boundary and margins\n",
        "    ax.contour(X, Y, P, colors='k',\n",
        "               levels=[-1, 0, 1], alpha=0.5,\n",
        "               linestyles=['--', '-', '--'])\n",
        "\n",
        "    # plot support vectors\n",
        "    if plot_support:\n",
        "        ax.scatter(model.support_vectors_[:, 0],\n",
        "                   model.support_vectors_[:, 1],\n",
        "                   s=300, linewidth=1, facecolors='none');\n",
        "    ax.set_xlim(xlim)\n",
        "    ax.set_ylim(ylim)"
      ],
      "metadata": {
        "id": "PRRM4a2-cdXR"
      },
      "execution_count": null,
      "outputs": []
    },
    {
      "cell_type": "code",
      "source": [
        "plt.scatter(X[:, 0], X[:, 1], c=y, s=50, cmap='autumn')\n",
        "plot_svc_decision_function(model);"
      ],
      "metadata": {
        "id": "bBFfm0rGcerT"
      },
      "execution_count": null,
      "outputs": []
    },
    {
      "cell_type": "code",
      "source": [
        "model.support_vectors_"
      ],
      "metadata": {
        "id": "gBJGjdxUciDw"
      },
      "execution_count": null,
      "outputs": []
    },
    {
      "cell_type": "code",
      "source": [
        "def plot_svm(N=10, ax=None):\n",
        "    X, y = make_blobs(n_samples=200, centers=2,\n",
        "                      random_state=0, cluster_std=0.60)\n",
        "    X = X[:N]\n",
        "    y = y[:N]\n",
        "    model = SVC(kernel='linear', C=1E10)\n",
        "    model.fit(X, y)\n",
        "\n",
        "    ax = ax or plt.gca()\n",
        "    ax.scatter(X[:, 0], X[:, 1], c=y, s=50, cmap='autumn')\n",
        "    ax.set_xlim(-1, 4)\n",
        "    ax.set_ylim(-1, 6)\n",
        "    plot_svc_decision_function(model, ax)\n",
        "\n",
        "fig, ax = plt.subplots(1, 2, figsize=(16, 6))\n",
        "fig.subplots_adjust(left=0.0625, right=0.95, wspace=0.1)\n",
        "for axi, N in zip(ax, [60, 120]):\n",
        "    plot_svm(N, axi)\n",
        "    axi.set_title('N = {0}'.format(N))"
      ],
      "metadata": {
        "id": "-MY8Irr0cjxM"
      },
      "execution_count": null,
      "outputs": []
    },
    {
      "cell_type": "code",
      "source": [
        "from ipywidgets import interact, fixed\n",
        "interact(plot_svm, N=[10, 200], ax=fixed(None));"
      ],
      "metadata": {
        "id": "WaR5a7cpclfX"
      },
      "execution_count": null,
      "outputs": []
    },
    {
      "cell_type": "markdown",
      "source": [
        "**SVM kernal:**"
      ],
      "metadata": {
        "id": "VGgMTQu8cqRR"
      }
    },
    {
      "cell_type": "code",
      "source": [
        "from sklearn.datasets import make_circles\n",
        "X, y = make_circles(100, factor=.1, noise=.1)\n",
        "\n",
        "clf = SVC(kernel='linear').fit(X, y)\n",
        "\n",
        "plt.scatter(X[:, 0], X[:, 1], c=y, s=50, cmap='autumn')\n",
        "plot_svc_decision_function(clf, plot_support=False);"
      ],
      "metadata": {
        "id": "Zx65x_-3czdQ"
      },
      "execution_count": null,
      "outputs": []
    },
    {
      "cell_type": "code",
      "source": [
        "# loi\n",
        "# !pip install mlxtend --upgrade --no-deps\n",
        "from sklearn import svm\n",
        "from mlxtend.plotting import plot_decision_regions\n",
        "\n",
        "# X = iris[['SepalLengthCm', 'SepalWidthCm']]\n",
        "# y = iris['SpecieID']\n",
        "\n",
        "clf = svm.SVC(decision_function_shape = 'ovo')\n",
        "clf.fit(X, y)\n",
        "\n",
        "# Plot Decision Region using mlxtend's awesome plotting function\n",
        "plot_decision_regions(X=X,\n",
        "                      y=y,\n",
        "                      clf=clf,\n",
        "                      legend=2)\n",
        "\n",
        "# Update plot object with X/Y axis labels and Figure Title\n",
        "plt.xlabel(X.columns[0], size=14)\n",
        "plt.ylabel(X.columns[1], size=14)\n",
        "plt.title('SVM Decision Region Boundary', size=16)"
      ],
      "metadata": {
        "id": "MYm0bdZyc0nA"
      },
      "execution_count": null,
      "outputs": []
    }
  ]
}